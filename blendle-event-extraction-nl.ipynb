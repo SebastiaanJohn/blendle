{
 "cells": [
  {
   "cell_type": "markdown",
   "metadata": {},
   "source": [
    "# Blendle Topic & Event Extraction NL"
   ]
  },
  {
   "cell_type": "code",
   "execution_count": 1,
   "metadata": {},
   "outputs": [],
   "source": [
    "import pandas as pd\n",
    "import numpy as np\n",
    "\n",
    "import seaborn as sns\n",
    "import matplotlib.pyplot as plt\n",
    "\n",
    "import re\n",
    "import pickle\n",
    "import json\n",
    "import os\n",
    "\n",
    "import umap\n",
    "import hdbscan\n",
    "\n",
    "from tqdm import tqdm\n",
    "from summarizer import Summarizer\n",
    "\n",
    "from top2vec import Top2Vec\n",
    "\n",
    "from nltk.corpus import stopwords\n",
    "import spacy"
   ]
  },
  {
   "cell_type": "markdown",
   "metadata": {},
   "source": [
    "## Importing and preprocessing data\n",
    "\n",
    "The following functions are used to load the JSON data in as a dataframe and preprocess it"
   ]
  },
  {
   "cell_type": "code",
   "execution_count": 2,
   "metadata": {},
   "outputs": [],
   "source": [
    "def import_json_data(path):\n",
    "    \"\"\"\n",
    "    import_json_data imports JSON data and keeps only the id, date,\n",
    "    headline and content of an article.\n",
    "\n",
    "    :path: path to raw JSON data\n",
    "    :return: list of dicts where each dict is a article.\n",
    "    \"\"\" \n",
    "    articles = []\n",
    "    data = [json.loads(line) for line in open(path, 'r')]\n",
    "    \n",
    "    for d in data:\n",
    "        article = {\n",
    "            'id' : d['id'],\n",
    "            'date' : d['date'],\n",
    "        }\n",
    "        for i in d['body']:\n",
    "            try:\n",
    "                if i['type'] == 'hl1':\n",
    "                    article['headline'] = i['content']\n",
    "            except:\n",
    "                break\n",
    "        content = []\n",
    "        for i in d['body']:\n",
    "            try:\n",
    "                if i['type'] == 'p':\n",
    "                    content.append(i['content'])\n",
    "            except:\n",
    "                continue\n",
    "        article['content'] = ' '.join(content)\n",
    "        articles.append(article)\n",
    "    \n",
    "    return articles"
   ]
  },
  {
   "cell_type": "code",
   "execution_count": 3,
   "metadata": {},
   "outputs": [],
   "source": [
    "def preprocess_data(data):\n",
    "    \"\"\"\n",
    "    preprocess_data takes in list of dicts and returns\n",
    "    Pandas DataFrame with keys as columns and value\n",
    "    as rows, and removes HTML tags from text.\n",
    "\n",
    "    :data: list of dicts of articles.\n",
    "    \n",
    "    :return: dataframe.\n",
    "    \"\"\"\n",
    "    TAG_RE = re.compile(r'<[^>]+>')\n",
    "    \n",
    "    dataframe = pd.DataFrame(data)\n",
    "    \n",
    "    # drop duplicate articles\n",
    "    dataframe = dataframe.drop_duplicates(subset='content', keep=\"last\")\n",
    "    \n",
    "    # remove HTML\n",
    "    dataframe['content'] = dataframe['content'].apply(lambda x: TAG_RE.sub('', x))\n",
    "    dataframe['content'] = dataframe['content'].apply(lambda x: x.replace(\"&nbsp;\", \" \"))\n",
    "    \n",
    "    # create new article column\n",
    "    dataframe['article'] = dataframe['headline'] + ' ' + dataframe['content']\n",
    "    \n",
    "    # make date column datetime\n",
    "    dataframe['date'] = pd.to_datetime(dataframe['date'])\n",
    "    \n",
    "    return dataframe.dropna().drop_duplicates()"
   ]
  },
  {
   "cell_type": "code",
   "execution_count": 4,
   "metadata": {},
   "outputs": [],
   "source": [
    "def create_df(path):\n",
    "    \"\"\"\n",
    "    Loops over directory and calls above functions to\n",
    "    return dataframe.\n",
    "\n",
    "    :path: path to JSON files.\n",
    "    \n",
    "    :return: dataframe.\n",
    "    \"\"\"\n",
    "    frames = []\n",
    "    for file in tqdm(os.listdir(path)):\n",
    "        data = import_json_data(path + file)\n",
    "        frames.append(preprocess_data(data))\n",
    "    \n",
    "    df = pd.concat(frames).reset_index(drop=True)\n",
    "    \n",
    "    # add index for topics\n",
    "    df['index'] = df.index\n",
    "    \n",
    "    return df"
   ]
  },
  {
   "cell_type": "code",
   "execution_count": 5,
   "metadata": {},
   "outputs": [
    {
     "name": "stderr",
     "output_type": "stream",
     "text": [
      "100%|██████████| 2/2 [01:51<00:00, 55.51s/it]\n"
     ]
    },
    {
     "data": {
      "text/html": [
       "<div>\n",
       "<style scoped>\n",
       "    .dataframe tbody tr th:only-of-type {\n",
       "        vertical-align: middle;\n",
       "    }\n",
       "\n",
       "    .dataframe tbody tr th {\n",
       "        vertical-align: top;\n",
       "    }\n",
       "\n",
       "    .dataframe thead th {\n",
       "        text-align: right;\n",
       "    }\n",
       "</style>\n",
       "<table border=\"1\" class=\"dataframe\">\n",
       "  <thead>\n",
       "    <tr style=\"text-align: right;\">\n",
       "      <th></th>\n",
       "      <th>id</th>\n",
       "      <th>date</th>\n",
       "      <th>headline</th>\n",
       "      <th>content</th>\n",
       "      <th>article</th>\n",
       "      <th>index</th>\n",
       "    </tr>\n",
       "  </thead>\n",
       "  <tbody>\n",
       "    <tr>\n",
       "      <th>0</th>\n",
       "      <td>bnl-kijk-20200101-5_1</td>\n",
       "      <td>2020-01-01 00:00:00+00:00</td>\n",
       "      <td>KESSELER</td>\n",
       "      <td>ETENSCHAP Vanaf dit nummer neemt Eric de Kruij...</td>\n",
       "      <td>KESSELER ETENSCHAP Vanaf dit nummer neemt Eric...</td>\n",
       "      <td>0</td>\n",
       "    </tr>\n",
       "    <tr>\n",
       "      <th>1</th>\n",
       "      <td>bnl-kijk-20200101-8_2</td>\n",
       "      <td>2020-01-01 00:00:00+00:00</td>\n",
       "      <td>GESTROOMLIJND</td>\n",
       "      <td>Terwijl mensen iedere dag honderden kilometers...</td>\n",
       "      <td>GESTROOMLIJND Terwijl mensen iedere dag honder...</td>\n",
       "      <td>1</td>\n",
       "    </tr>\n",
       "    <tr>\n",
       "      <th>2</th>\n",
       "      <td>bnl-kijk-20200101-6_2</td>\n",
       "      <td>2020-01-01 00:00:00+00:00</td>\n",
       "      <td>GENERATIEKLOOF</td>\n",
       "      <td>In 2016 kwam in een rapport naar buiten dat he...</td>\n",
       "      <td>GENERATIEKLOOF In 2016 kwam in een rapport naa...</td>\n",
       "      <td>2</td>\n",
       "    </tr>\n",
       "    <tr>\n",
       "      <th>3</th>\n",
       "      <td>bnl-kijk-20200101-79_1</td>\n",
       "      <td>2020-01-01 00:00:00+00:00</td>\n",
       "      <td>VELDHUIZEN WINTERDIP</td>\n",
       "      <td>Zucht. Kreun. De donkere dagen zijn er weer. M...</td>\n",
       "      <td>VELDHUIZEN WINTERDIP Zucht. Kreun. De donkere ...</td>\n",
       "      <td>3</td>\n",
       "    </tr>\n",
       "    <tr>\n",
       "      <th>4</th>\n",
       "      <td>bnl-kijk-20200101-68_2</td>\n",
       "      <td>2020-01-01 00:00:00+00:00</td>\n",
       "      <td>Minderfoon</td>\n",
       "      <td>KICKSTART! Een minimalistische telefoon. Dat i...</td>\n",
       "      <td>Minderfoon KICKSTART! Een minimalistische tele...</td>\n",
       "      <td>4</td>\n",
       "    </tr>\n",
       "    <tr>\n",
       "      <th>...</th>\n",
       "      <td>...</td>\n",
       "      <td>...</td>\n",
       "      <td>...</td>\n",
       "      <td>...</td>\n",
       "      <td>...</td>\n",
       "      <td>...</td>\n",
       "    </tr>\n",
       "    <tr>\n",
       "      <th>790029</th>\n",
       "      <td>bnl-nieuwerevu-20190710-605334bb3a9</td>\n",
       "      <td>2019-07-10 00:00:00+00:00</td>\n",
       "      <td>Julio Iglesias</td>\n",
       "      <td>Hij werd geboren op 23 september 1943 als zoon...</td>\n",
       "      <td>Julio Iglesias Hij werd geboren op 23 septembe...</td>\n",
       "      <td>790029</td>\n",
       "    </tr>\n",
       "    <tr>\n",
       "      <th>790030</th>\n",
       "      <td>bnl-womenshealth-20190314-785d6d95f51</td>\n",
       "      <td>2019-03-14 00:00:00+00:00</td>\n",
       "      <td>De babyvraag</td>\n",
       "      <td>‘Wanneer gaan jullie eindelijk eens aan kinder...</td>\n",
       "      <td>De babyvraag ‘Wanneer gaan jullie eindelijk ee...</td>\n",
       "      <td>790030</td>\n",
       "    </tr>\n",
       "    <tr>\n",
       "      <th>790031</th>\n",
       "      <td>bnl-lhomo-20190416-dbb7d713c58</td>\n",
       "      <td>2019-04-16 00:00:00+00:00</td>\n",
       "      <td>MICHAEL</td>\n",
       "      <td>“In de operawereld geldt: geen gezichtsbeharin...</td>\n",
       "      <td>MICHAEL “In de operawereld geldt: geen gezicht...</td>\n",
       "      <td>790031</td>\n",
       "    </tr>\n",
       "    <tr>\n",
       "      <th>790032</th>\n",
       "      <td>bnl-knack-20190109-d4ae02635a9</td>\n",
       "      <td>2019-01-09 00:00:00+00:00</td>\n",
       "      <td>Leidt duaal leren tot jobs, jobs, jobs?</td>\n",
       "      <td>We weten het al langer: er zijn in ons land te...</td>\n",
       "      <td>Leidt duaal leren tot jobs, jobs, jobs? We wet...</td>\n",
       "      <td>790032</td>\n",
       "    </tr>\n",
       "    <tr>\n",
       "      <th>790033</th>\n",
       "      <td>bnl-psychologie-20190523-b6f9a03eeda</td>\n",
       "      <td>2019-05-23 00:00:00+00:00</td>\n",
       "      <td>Leer je kind omgaan met EMOTIES</td>\n",
       "      <td>‘Bij kinderen is er nog een heel direct verban...</td>\n",
       "      <td>Leer je kind omgaan met EMOTIES ‘Bij kinderen ...</td>\n",
       "      <td>790033</td>\n",
       "    </tr>\n",
       "  </tbody>\n",
       "</table>\n",
       "<p>790034 rows × 6 columns</p>\n",
       "</div>"
      ],
      "text/plain": [
       "                                           id                      date  \\\n",
       "0                       bnl-kijk-20200101-5_1 2020-01-01 00:00:00+00:00   \n",
       "1                       bnl-kijk-20200101-8_2 2020-01-01 00:00:00+00:00   \n",
       "2                       bnl-kijk-20200101-6_2 2020-01-01 00:00:00+00:00   \n",
       "3                      bnl-kijk-20200101-79_1 2020-01-01 00:00:00+00:00   \n",
       "4                      bnl-kijk-20200101-68_2 2020-01-01 00:00:00+00:00   \n",
       "...                                       ...                       ...   \n",
       "790029    bnl-nieuwerevu-20190710-605334bb3a9 2019-07-10 00:00:00+00:00   \n",
       "790030  bnl-womenshealth-20190314-785d6d95f51 2019-03-14 00:00:00+00:00   \n",
       "790031         bnl-lhomo-20190416-dbb7d713c58 2019-04-16 00:00:00+00:00   \n",
       "790032         bnl-knack-20190109-d4ae02635a9 2019-01-09 00:00:00+00:00   \n",
       "790033   bnl-psychologie-20190523-b6f9a03eeda 2019-05-23 00:00:00+00:00   \n",
       "\n",
       "                                       headline  \\\n",
       "0                                      KESSELER   \n",
       "1                                 GESTROOMLIJND   \n",
       "2                                GENERATIEKLOOF   \n",
       "3                          VELDHUIZEN WINTERDIP   \n",
       "4                                    Minderfoon   \n",
       "...                                         ...   \n",
       "790029                           Julio Iglesias   \n",
       "790030                             De babyvraag   \n",
       "790031                                  MICHAEL   \n",
       "790032  Leidt duaal leren tot jobs, jobs, jobs?   \n",
       "790033          Leer je kind omgaan met EMOTIES   \n",
       "\n",
       "                                                  content  \\\n",
       "0       ETENSCHAP Vanaf dit nummer neemt Eric de Kruij...   \n",
       "1       Terwijl mensen iedere dag honderden kilometers...   \n",
       "2       In 2016 kwam in een rapport naar buiten dat he...   \n",
       "3       Zucht. Kreun. De donkere dagen zijn er weer. M...   \n",
       "4       KICKSTART! Een minimalistische telefoon. Dat i...   \n",
       "...                                                   ...   \n",
       "790029  Hij werd geboren op 23 september 1943 als zoon...   \n",
       "790030  ‘Wanneer gaan jullie eindelijk eens aan kinder...   \n",
       "790031  “In de operawereld geldt: geen gezichtsbeharin...   \n",
       "790032  We weten het al langer: er zijn in ons land te...   \n",
       "790033  ‘Bij kinderen is er nog een heel direct verban...   \n",
       "\n",
       "                                                  article   index  \n",
       "0       KESSELER ETENSCHAP Vanaf dit nummer neemt Eric...       0  \n",
       "1       GESTROOMLIJND Terwijl mensen iedere dag honder...       1  \n",
       "2       GENERATIEKLOOF In 2016 kwam in een rapport naa...       2  \n",
       "3       VELDHUIZEN WINTERDIP Zucht. Kreun. De donkere ...       3  \n",
       "4       Minderfoon KICKSTART! Een minimalistische tele...       4  \n",
       "...                                                   ...     ...  \n",
       "790029  Julio Iglesias Hij werd geboren op 23 septembe...  790029  \n",
       "790030  De babyvraag ‘Wanneer gaan jullie eindelijk ee...  790030  \n",
       "790031  MICHAEL “In de operawereld geldt: geen gezicht...  790031  \n",
       "790032  Leidt duaal leren tot jobs, jobs, jobs? We wet...  790032  \n",
       "790033  Leer je kind omgaan met EMOTIES ‘Bij kinderen ...  790033  \n",
       "\n",
       "[790034 rows x 6 columns]"
      ]
     },
     "execution_count": 5,
     "metadata": {},
     "output_type": "execute_result"
    }
   ],
   "source": [
    "PATH = 'data_nl/'\n",
    "df = create_df(PATH)\n",
    "df"
   ]
  },
  {
   "cell_type": "markdown",
   "metadata": {},
   "source": [
    "Lets checkout an article."
   ]
  },
  {
   "cell_type": "code",
   "execution_count": 85,
   "metadata": {},
   "outputs": [
    {
     "data": {
      "text/plain": [
       "'KESSELER ETENSCHAP Vanaf dit nummer neemt Eric de Kruijk ons maandelijks mee de keuken in. Niet om allerlei fijne gerechten klaar te maken - want dat zou niet zo bij dit blad passen - maar om te koken op de KIJK-manier. Nou heb ik op zich niet zoveel met eten bereiden. Het is niet mijn hobby en het helpt zeker niet als ik een of andere chef-kok op tv hoor praten over ‘een zuurtje’ in een gerecht. Eentje die het niet over lekkere, maar over een ‘mooie’ wijn heeft. Of zo’n witmuts die niet alleen het woord ‘zuurtje’ in de mond neemt, maar alles wat hij of zij vastpakt in verkleinwoordjes beschrijft. “Dan pakken we er een paprikaatje bij, we snipperen met ons mesje een uitje en dat doen we dan in het pannetje…” Ik heb dan ineens geen trek meer. En breek me de bek niet open over mensen die zonder een spoor van cynisme beweren: “Ja, ik hou heel erg van lekker eten.” Oh, really…!? Ik ben ook, moet ik eerlijk bekennen, niet zo’n keukenprins. Mijn vrouw kan met een halve tomaat, een scheut yoghurt, wat overgebleven ham en een verloren paprika een volledige maaltijd op tafel toveren. Als ik ga koken, kan ik dat alleen met een gedetailleerd aanvalsplan dat met welhaast militaire precisie wordt uitgevoerd. Dan komt er een boodschappenlijst, gooi ik de supermarktkar vol met alles wat ik nodig heb, en eenmaal thuis verdeel ik zowel het kookgerei als de ingrediënten strategisch over het inzetgebied. Ik kan niks met “peper en zout naar smaak toevoegen”. Geef mij maten, hoeveelheden, harde cijfers. Kortom, koken doe ik niet op het gevoel. Toen Eric met zijn kookidee kwam, had hij desondanks mijn volledige aandacht. Hij laat ons kennismaken met Wetenschappelijk Koken. Want waarom zou je een eierpan gebruiken als je een vaatwasser hebt? Eric belooft verder dat friet bakken bij pakweg 3 g vanwege de verhoogde zwaartekracht voor veel lekkerder eten zorgt. En als je je een beetje in enzymen verdiept, levert dat volgens hem altijd rijp fruit, supermals vlees en stevigere aardappelpuree op. Erics kooklessen in Kruijks Etenschap (pagina 13) lijken me fantastisch. Die ga ik volgen. Met militaire precisie, dat dan weer wel, want ik hou van lekker eten. André Kesseler is hoofdredacteur van KIJK. Reageren op deze column en de nieuwe KIJK? Schrijf naar info@kijkmagazine.nl.'"
      ]
     },
     "execution_count": 85,
     "metadata": {},
     "output_type": "execute_result"
    }
   ],
   "source": [
    "df['article'][0]"
   ]
  },
  {
   "cell_type": "markdown",
   "metadata": {},
   "source": [
    "Now we need to remove numbers, punctuation and other non-alphabetical items. Futhermore, we set everything to lowercase and remove the stop words and single letters. The author of *Top2Vec* actually says this isn't neccesarry, as the HDBSCAN cluster algorithm will automatically declare these words as outliers. But we thought it wouldn't hurt to try.\n",
    "\n",
    "Following code is from: https://github.com/Tempelman45286"
   ]
  },
  {
   "cell_type": "code",
   "execution_count": 86,
   "metadata": {},
   "outputs": [],
   "source": [
    "stop_words_extra = ['aan','aangaande','aangezien','al','aldaar','aldus','alhoewel',\n",
    " 'alias','alle','allebei','alsnog','altijd','altoos','ander','andere','anders',\n",
    " 'anderszins','behalve','behoudens','beide','beiden','ben','beneden','bent','bepaald','betreffende',\n",
    " 'bij','binnenin','boven','bovenal','bovendien','bovengenoemd','bovenstaand','bovenvermeld',\n",
    " 'daar','daarheen','daarin','daarna','daarnet','daarom','daarop','daarvanlangs','dan',\n",
    " 'dat','de','die','dikwijls','dit','door','doorgaand','dus','echter','eerdat',\n",
    " 'eerlang','elk','elke','en','enig','enigszins','er','erdoor','even','eveneens',\n",
    " 'evenwel','gauw','gedurende','gehad','gekund','geleden','gemoeten','gemogen',\n",
    " 'geweest','gewoon','gewoonweg','haar','had','hadden','hare','heb','hebben','hebt','heeft','hem',\n",
    " 'hen','het','hierbeneden','hierboven','hij','hoe','hoewel','hun','hunne','ik','ikzelf','in',\n",
    " 'inmiddels','inzake','is','jezelf','jij','jijzelf','jou','jouw','jouwe','juist','jullie','kan',\n",
    " 'klaar','kon','konden','krachtens','kunnen','kunt','later','liever','maar','mag','meer','met',\n",
    " 'mezelf','mij','mijn','mijnent','mijner','mijzelf','misschien','mocht','mochten','moest','moesten',\n",
    " 'moet','moeten','mogen', 'n', 'na','naar','nadat','net','niet','noch','nog','nogal','nu','of','ofschoon',\n",
    " 'om','omdat','omstreeks','omtrent','omver','onder','ondertussen','ongeveer','ons',\n",
    " 'onszelf','onze','ook','op','opnieuw','opzij','over','overigens','pas','precies','reeds',\n",
    " 'rondom','sedert','sinds','s', 'sindsdien','sommige','spoedig','steeds','tamelijk','tenzij',\n",
    " 'terwijl','thans','tijdens','toch','toen','toenmaals','toenmalig','tot','totdat','tussen','uit',\n",
    " 'vaak','van','vandaan','vanuit','vanwege','veeleer','verder','vervolgens','vol',\n",
    " 'volgens','voor','vooraf','vooral','vooralsnog','voorbij','voordat','voorheen',\n",
    " 'vrij','vroeg','waar','waarom','wanneer','want','waren','was','wat',\n",
    " 'wegens','wel', 'we', 'weldra','welk','welke','wie','wiens','wier','wij','wijzelf','zal',\n",
    " 'ze','zelfs','zichzelf','zij','zijn','zijne','zo','zodra','zonder','zou','zouden','zowat','zulke',\n",
    " 'zullen','zult', 'zegt']"
   ]
  },
  {
   "cell_type": "code",
   "execution_count": 87,
   "metadata": {},
   "outputs": [],
   "source": [
    "# remove numbers, punctuation and other non-alphabetical items\n",
    "df['article'] = df['article'].str.replace(\"[^a-zA-Z#]\", \" \")\n",
    "df['article'] = df['article'].str.replace(\"'\\'\", \" \")\n",
    "\n",
    "# normalize to lowercase\n",
    "df['article'] = df['article'].apply(lambda x: x.lower())\n",
    "\n",
    "# stop word removal\n",
    "stop_words = stopwords.words('dutch')\n",
    "stop_words = stop_words + stop_words_extra\n",
    "df['article'] = df['article'].apply(lambda x: ' '.join([word for word in x.split() if word not in stop_words]))\n",
    "\n",
    "# remove single letters\n",
    "df['article'] = df['article'].apply(lambda x: ' '.join([word for word in x.split() if len(word) > 1]))"
   ]
  },
  {
   "cell_type": "markdown",
   "metadata": {},
   "source": [
    "Lets see an article again after preprocessing."
   ]
  },
  {
   "cell_type": "code",
   "execution_count": 88,
   "metadata": {},
   "outputs": [
    {
     "data": {
      "text/plain": [
       "'kesseler etenschap vanaf nummer neemt eric kruijk maandelijks mee keuken allerlei fijne gerechten maken blad passen koken kijk manier nou zoveel eten bereiden hobby helpt zeker chef kok tv hoor praten zuurtje gerecht eentje lekkere mooie wijn witmuts alleen woord zuurtje mond neemt vastpakt verkleinwoordjes beschrijft pakken paprikaatje snipperen mesje uitje pannetje ineens trek breek bek open mensen spoor cynisme beweren hou heel erg lekker eten oh really eerlijk bekennen keukenprins vrouw halve tomaat scheut yoghurt overgebleven ham verloren paprika volledige maaltijd tafel toveren ga koken alleen gedetailleerd aanvalsplan welhaast militaire precisie uitgevoerd komt boodschappenlijst gooi supermarktkar nodig eenmaal thuis verdeel zowel kookgerei ingredi nten strategisch inzetgebied niks peper zout smaak toevoegen geef maten hoeveelheden harde cijfers kortom koken doe gevoel eric kookidee kwam desondanks volledige aandacht laat kennismaken wetenschappelijk koken eierpan gebruiken vaatwasser eric belooft friet bakken pakweg verhoogde zwaartekracht lekkerder eten zorgt beetje enzymen verdiept levert rijp fruit supermals vlees stevigere aardappelpuree erics kooklessen kruijks etenschap pagina lijken fantastisch ga volgen militaire precisie weer hou lekker eten andr kesseler hoofdredacteur kijk reageren column nieuwe kijk schrijf info kijkmagazine nl'"
      ]
     },
     "execution_count": 88,
     "metadata": {},
     "output_type": "execute_result"
    }
   ],
   "source": [
    "df['article'][0]"
   ]
  },
  {
   "cell_type": "code",
   "execution_count": 91,
   "metadata": {},
   "outputs": [
    {
     "data": {
      "text/html": [
       "<div>\n",
       "<style scoped>\n",
       "    .dataframe tbody tr th:only-of-type {\n",
       "        vertical-align: middle;\n",
       "    }\n",
       "\n",
       "    .dataframe tbody tr th {\n",
       "        vertical-align: top;\n",
       "    }\n",
       "\n",
       "    .dataframe thead th {\n",
       "        text-align: right;\n",
       "    }\n",
       "</style>\n",
       "<table border=\"1\" class=\"dataframe\">\n",
       "  <thead>\n",
       "    <tr style=\"text-align: right;\">\n",
       "      <th></th>\n",
       "      <th>id</th>\n",
       "      <th>date</th>\n",
       "      <th>headline</th>\n",
       "      <th>content</th>\n",
       "      <th>article</th>\n",
       "      <th>index</th>\n",
       "    </tr>\n",
       "  </thead>\n",
       "  <tbody>\n",
       "    <tr>\n",
       "      <th>0</th>\n",
       "      <td>bnl-kijk-20200101-5_1</td>\n",
       "      <td>2020-01-01 00:00:00+00:00</td>\n",
       "      <td>KESSELER</td>\n",
       "      <td>ETENSCHAP Vanaf dit nummer neemt Eric de Kruij...</td>\n",
       "      <td>kesseler etenschap vanaf nummer neemt eric kru...</td>\n",
       "      <td>0</td>\n",
       "    </tr>\n",
       "    <tr>\n",
       "      <th>1</th>\n",
       "      <td>bnl-kijk-20200101-8_2</td>\n",
       "      <td>2020-01-01 00:00:00+00:00</td>\n",
       "      <td>GESTROOMLIJND</td>\n",
       "      <td>Terwijl mensen iedere dag honderden kilometers...</td>\n",
       "      <td>gestroomlijnd mensen iedere dag honderden kilo...</td>\n",
       "      <td>1</td>\n",
       "    </tr>\n",
       "    <tr>\n",
       "      <th>2</th>\n",
       "      <td>bnl-kijk-20200101-6_2</td>\n",
       "      <td>2020-01-01 00:00:00+00:00</td>\n",
       "      <td>GENERATIEKLOOF</td>\n",
       "      <td>In 2016 kwam in een rapport naar buiten dat he...</td>\n",
       "      <td>generatiekloof kwam rapport buiten amerikaanse...</td>\n",
       "      <td>2</td>\n",
       "    </tr>\n",
       "    <tr>\n",
       "      <th>3</th>\n",
       "      <td>bnl-kijk-20200101-79_1</td>\n",
       "      <td>2020-01-01 00:00:00+00:00</td>\n",
       "      <td>VELDHUIZEN WINTERDIP</td>\n",
       "      <td>Zucht. Kreun. De donkere dagen zijn er weer. M...</td>\n",
       "      <td>veldhuizen winterdip zucht kreun donkere dagen...</td>\n",
       "      <td>3</td>\n",
       "    </tr>\n",
       "    <tr>\n",
       "      <th>4</th>\n",
       "      <td>bnl-kijk-20200101-68_2</td>\n",
       "      <td>2020-01-01 00:00:00+00:00</td>\n",
       "      <td>Minderfoon</td>\n",
       "      <td>KICKSTART! Een minimalistische telefoon. Dat i...</td>\n",
       "      <td>minderfoon kickstart minimalistische telefoon ...</td>\n",
       "      <td>4</td>\n",
       "    </tr>\n",
       "  </tbody>\n",
       "</table>\n",
       "</div>"
      ],
      "text/plain": [
       "                       id                      date              headline  \\\n",
       "0   bnl-kijk-20200101-5_1 2020-01-01 00:00:00+00:00              KESSELER   \n",
       "1   bnl-kijk-20200101-8_2 2020-01-01 00:00:00+00:00         GESTROOMLIJND   \n",
       "2   bnl-kijk-20200101-6_2 2020-01-01 00:00:00+00:00        GENERATIEKLOOF   \n",
       "3  bnl-kijk-20200101-79_1 2020-01-01 00:00:00+00:00  VELDHUIZEN WINTERDIP   \n",
       "4  bnl-kijk-20200101-68_2 2020-01-01 00:00:00+00:00            Minderfoon   \n",
       "\n",
       "                                             content  \\\n",
       "0  ETENSCHAP Vanaf dit nummer neemt Eric de Kruij...   \n",
       "1  Terwijl mensen iedere dag honderden kilometers...   \n",
       "2  In 2016 kwam in een rapport naar buiten dat he...   \n",
       "3  Zucht. Kreun. De donkere dagen zijn er weer. M...   \n",
       "4  KICKSTART! Een minimalistische telefoon. Dat i...   \n",
       "\n",
       "                                             article  index  \n",
       "0  kesseler etenschap vanaf nummer neemt eric kru...      0  \n",
       "1  gestroomlijnd mensen iedere dag honderden kilo...      1  \n",
       "2  generatiekloof kwam rapport buiten amerikaanse...      2  \n",
       "3  veldhuizen winterdip zucht kreun donkere dagen...      3  \n",
       "4  minderfoon kickstart minimalistische telefoon ...      4  "
      ]
     },
     "execution_count": 91,
     "metadata": {},
     "output_type": "execute_result"
    }
   ],
   "source": [
    "df.head()"
   ]
  },
  {
   "cell_type": "markdown",
   "metadata": {},
   "source": [
    "Now we convert the article column to a list for training."
   ]
  },
  {
   "cell_type": "code",
   "execution_count": 92,
   "metadata": {},
   "outputs": [
    {
     "name": "stdout",
     "output_type": "stream",
     "text": [
      "There are 790034 articles.\n"
     ]
    }
   ],
   "source": [
    "# create list of articles to cluster model\n",
    "train = df.article.tolist()\n",
    "print(f'There are {len(train)} articles.')"
   ]
  },
  {
   "cell_type": "markdown",
   "metadata": {},
   "source": [
    "## Top2Vec\n",
    "\n",
    "For more information see:\n",
    "https://github.com/ddangelov/Top2Vec\n",
    "\n",
    "Basically what this does is:\n",
    "\n",
    "1. Create jointly embedded document and word vectors using Doc2Vec.\n",
    "2. Create lower dimensional embedding of document vectors using UMAP.\n",
    "3. Find dense areas of documents using HDBSCAN.\n",
    "4. For each dense area calculate the centroid of document vectors in original dimension, this is the topic vector.\n",
    "5. Find n-closest word vectors to the resulting topic vector.\n",
    "\n",
    "The embedding part took quite long (10+ hours) so we provided the embeddings for you already.\n",
    "\n",
    "### Do not run the following cell unless you want to run the embeddings yourself"
   ]
  },
  {
   "cell_type": "code",
   "execution_count": 19,
   "metadata": {},
   "outputs": [
    {
     "name": "stderr",
     "output_type": "stream",
     "text": [
      "2021-01-26 11:04:09,620 - top2vec - INFO - Pre-processing documents for training\n",
      "2021-01-26 11:10:09,821 - top2vec - INFO - Creating joint document/word embedding\n",
      "2021-01-26 22:16:02,787 - top2vec - INFO - Creating lower dimension embedding of documents\n",
      "2021-01-27 00:16:41,074 - top2vec - INFO - Finding dense areas of documents\n",
      "2021-01-27 00:17:40,481 - top2vec - INFO - Finding topics\n"
     ]
    }
   ],
   "source": [
    "model = Top2Vec(train)"
   ]
  },
  {
   "cell_type": "markdown",
   "metadata": {},
   "source": [
    "### Use the following cell to download and load embeddings"
   ]
  },
  {
   "cell_type": "code",
   "execution_count": 209,
   "metadata": {},
   "outputs": [],
   "source": [
    "!wget https://www.dropbox.com/s/n6g1uega1jj9456/modeltop2vec.zip\n",
    "!unzip modeltop2vec.zip"
   ]
  },
  {
   "cell_type": "code",
   "execution_count": null,
   "metadata": {},
   "outputs": [],
   "source": [
    "model = Top2Vec.load(\"modeltop2vec\")"
   ]
  },
  {
   "cell_type": "markdown",
   "metadata": {},
   "source": [
    "## Event extraction\n",
    "\n",
    "Now everything is clustered we add the the topic, topic score, topic words, and word scores to our dataframe."
   ]
  },
  {
   "cell_type": "code",
   "execution_count": 212,
   "metadata": {},
   "outputs": [],
   "source": [
    "def get_topic(index):\n",
    "    \"\"\"\n",
    "    Returns the topic number, topic score, topic words, and\n",
    "    word scores.\n",
    "    \n",
    "    :index: the index of the article\n",
    "    \n",
    "    returns: topic_num, topic_score, topic_words, word_scores\n",
    "    \"\"\"\n",
    "    topic_num, topic_score, topic_words, word_scores = model.get_documents_topics([index])\n",
    "    return topic_num[0], topic_score[0], topic_words[0], word_scores[0]\n",
    "\n",
    "def add_topic(dataframe, model):\n",
    "    \"\"\"\n",
    "    Uses get_topic to add the return values to the dataframe.\n",
    "    \n",
    "    :dataframe: dataframe with index column\n",
    "    :model: Top2Vec model\n",
    "    \"\"\"\n",
    "    df = dataframe.copy()\n",
    "    tqdm.pandas()\n",
    "    df['topic'], df['topic_score'], df['topic_words'], df['word_scores'] = zip(*df['index'].progress_map(get_topic))\n",
    "    \n",
    "    return df"
   ]
  },
  {
   "cell_type": "code",
   "execution_count": 129,
   "metadata": {},
   "outputs": [
    {
     "name": "stderr",
     "output_type": "stream",
     "text": [
      "100%|██████████| 790034/790034 [04:54<00:00, 2680.96it/s]\n"
     ]
    },
    {
     "data": {
      "text/html": [
       "<div>\n",
       "<style scoped>\n",
       "    .dataframe tbody tr th:only-of-type {\n",
       "        vertical-align: middle;\n",
       "    }\n",
       "\n",
       "    .dataframe tbody tr th {\n",
       "        vertical-align: top;\n",
       "    }\n",
       "\n",
       "    .dataframe thead th {\n",
       "        text-align: right;\n",
       "    }\n",
       "</style>\n",
       "<table border=\"1\" class=\"dataframe\">\n",
       "  <thead>\n",
       "    <tr style=\"text-align: right;\">\n",
       "      <th></th>\n",
       "      <th>id</th>\n",
       "      <th>date</th>\n",
       "      <th>headline</th>\n",
       "      <th>content</th>\n",
       "      <th>article</th>\n",
       "      <th>index</th>\n",
       "      <th>topic</th>\n",
       "      <th>topic_score</th>\n",
       "      <th>topic_words</th>\n",
       "      <th>word_scores</th>\n",
       "    </tr>\n",
       "  </thead>\n",
       "  <tbody>\n",
       "    <tr>\n",
       "      <th>0</th>\n",
       "      <td>bnl-kijk-20200101-5_1</td>\n",
       "      <td>2020-01-01 00:00:00+00:00</td>\n",
       "      <td>KESSELER</td>\n",
       "      <td>ETENSCHAP Vanaf dit nummer neemt Eric de Kruij...</td>\n",
       "      <td>kesseler etenschap vanaf nummer neemt eric kru...</td>\n",
       "      <td>0</td>\n",
       "      <td>256</td>\n",
       "      <td>0.483014</td>\n",
       "      <td>(kookboek, kookboeken, recepten, ottolenghi, c...</td>\n",
       "      <td>(0.88991475, 0.8513851, 0.8509706, 0.81747836,...</td>\n",
       "    </tr>\n",
       "    <tr>\n",
       "      <th>1</th>\n",
       "      <td>bnl-kijk-20200101-8_2</td>\n",
       "      <td>2020-01-01 00:00:00+00:00</td>\n",
       "      <td>GESTROOMLIJND</td>\n",
       "      <td>Terwijl mensen iedere dag honderden kilometers...</td>\n",
       "      <td>gestroomlijnd mensen iedere dag honderden kilo...</td>\n",
       "      <td>1</td>\n",
       "      <td>194</td>\n",
       "      <td>0.578721</td>\n",
       "      <td>(biologen, soortgenoten, prooien, diertjes, di...</td>\n",
       "      <td>(0.7165615, 0.71246326, 0.70897686, 0.7057693,...</td>\n",
       "    </tr>\n",
       "    <tr>\n",
       "      <th>2</th>\n",
       "      <td>bnl-kijk-20200101-6_2</td>\n",
       "      <td>2020-01-01 00:00:00+00:00</td>\n",
       "      <td>GENERATIEKLOOF</td>\n",
       "      <td>In 2016 kwam in een rapport naar buiten dat he...</td>\n",
       "      <td>generatiekloof kwam rapport buiten amerikaanse...</td>\n",
       "      <td>2</td>\n",
       "      <td>106</td>\n",
       "      <td>0.439223</td>\n",
       "      <td>(draadloos, draadloze, bluetooth, batterijduur...</td>\n",
       "      <td>(0.82850146, 0.8162906, 0.81580406, 0.80249894...</td>\n",
       "    </tr>\n",
       "    <tr>\n",
       "      <th>3</th>\n",
       "      <td>bnl-kijk-20200101-79_1</td>\n",
       "      <td>2020-01-01 00:00:00+00:00</td>\n",
       "      <td>VELDHUIZEN WINTERDIP</td>\n",
       "      <td>Zucht. Kreun. De donkere dagen zijn er weer. M...</td>\n",
       "      <td>veldhuizen winterdip zucht kreun donkere dagen...</td>\n",
       "      <td>3</td>\n",
       "      <td>294</td>\n",
       "      <td>0.301987</td>\n",
       "      <td>(nachtrust, melatonine, slaap, slaapritme, sla...</td>\n",
       "      <td>(0.83320475, 0.8173072, 0.8153957, 0.8125104, ...</td>\n",
       "    </tr>\n",
       "    <tr>\n",
       "      <th>4</th>\n",
       "      <td>bnl-kijk-20200101-68_2</td>\n",
       "      <td>2020-01-01 00:00:00+00:00</td>\n",
       "      <td>Minderfoon</td>\n",
       "      <td>KICKSTART! Een minimalistische telefoon. Dat i...</td>\n",
       "      <td>minderfoon kickstart minimalistische telefoon ...</td>\n",
       "      <td>4</td>\n",
       "      <td>106</td>\n",
       "      <td>0.560640</td>\n",
       "      <td>(draadloos, draadloze, bluetooth, batterijduur...</td>\n",
       "      <td>(0.82850146, 0.8162906, 0.81580406, 0.80249894...</td>\n",
       "    </tr>\n",
       "  </tbody>\n",
       "</table>\n",
       "</div>"
      ],
      "text/plain": [
       "                       id                      date              headline  \\\n",
       "0   bnl-kijk-20200101-5_1 2020-01-01 00:00:00+00:00              KESSELER   \n",
       "1   bnl-kijk-20200101-8_2 2020-01-01 00:00:00+00:00         GESTROOMLIJND   \n",
       "2   bnl-kijk-20200101-6_2 2020-01-01 00:00:00+00:00        GENERATIEKLOOF   \n",
       "3  bnl-kijk-20200101-79_1 2020-01-01 00:00:00+00:00  VELDHUIZEN WINTERDIP   \n",
       "4  bnl-kijk-20200101-68_2 2020-01-01 00:00:00+00:00            Minderfoon   \n",
       "\n",
       "                                             content  \\\n",
       "0  ETENSCHAP Vanaf dit nummer neemt Eric de Kruij...   \n",
       "1  Terwijl mensen iedere dag honderden kilometers...   \n",
       "2  In 2016 kwam in een rapport naar buiten dat he...   \n",
       "3  Zucht. Kreun. De donkere dagen zijn er weer. M...   \n",
       "4  KICKSTART! Een minimalistische telefoon. Dat i...   \n",
       "\n",
       "                                             article  index  topic  \\\n",
       "0  kesseler etenschap vanaf nummer neemt eric kru...      0    256   \n",
       "1  gestroomlijnd mensen iedere dag honderden kilo...      1    194   \n",
       "2  generatiekloof kwam rapport buiten amerikaanse...      2    106   \n",
       "3  veldhuizen winterdip zucht kreun donkere dagen...      3    294   \n",
       "4  minderfoon kickstart minimalistische telefoon ...      4    106   \n",
       "\n",
       "   topic_score                                        topic_words  \\\n",
       "0     0.483014  (kookboek, kookboeken, recepten, ottolenghi, c...   \n",
       "1     0.578721  (biologen, soortgenoten, prooien, diertjes, di...   \n",
       "2     0.439223  (draadloos, draadloze, bluetooth, batterijduur...   \n",
       "3     0.301987  (nachtrust, melatonine, slaap, slaapritme, sla...   \n",
       "4     0.560640  (draadloos, draadloze, bluetooth, batterijduur...   \n",
       "\n",
       "                                         word_scores  \n",
       "0  (0.88991475, 0.8513851, 0.8509706, 0.81747836,...  \n",
       "1  (0.7165615, 0.71246326, 0.70897686, 0.7057693,...  \n",
       "2  (0.82850146, 0.8162906, 0.81580406, 0.80249894...  \n",
       "3  (0.83320475, 0.8173072, 0.8153957, 0.8125104, ...  \n",
       "4  (0.82850146, 0.8162906, 0.81580406, 0.80249894...  "
      ]
     },
     "execution_count": 129,
     "metadata": {},
     "output_type": "execute_result"
    }
   ],
   "source": [
    "clean_df = add_topic(df, model)\n",
    "clean_df.head()"
   ]
  },
  {
   "cell_type": "markdown",
   "metadata": {},
   "source": [
    "We can use the following method to search for similar words as the keyword provided"
   ]
  },
  {
   "cell_type": "code",
   "execution_count": 206,
   "metadata": {},
   "outputs": [
    {
     "name": "stdout",
     "output_type": "stream",
     "text": [
      "lives 0.8804712409869928\n",
      "matter 0.8528234634574865\n",
      "antiracisme 0.7437705344080188\n",
      "politiegeweld 0.7354127967521926\n",
      "institutioneel 0.6994888348163792\n",
      "racisme 0.6793980254152143\n",
      "antiracistische 0.675056658168099\n",
      "activisme 0.6426319480951161\n",
      "raciale 0.6401922077735156\n",
      "racismedebat 0.6260608625020267\n",
      "floyd 0.62501968649201\n",
      "minneapolis 0.6223313075288885\n",
      "antifa 0.5962253562344414\n",
      "systemisch 0.5953122551738332\n",
      "racisten 0.5933446765651947\n",
      "woke 0.5910441653407361\n",
      "racist 0.5814439985771073\n",
      "zwarten 0.5814288005758323\n",
      "black 0.5814079241371566\n",
      "floyds 0.5807496749544157\n"
     ]
    }
   ],
   "source": [
    "words, word_scores = model.similar_words(keywords=[\"blm\"], keywords_neg=[], num_words=20)\n",
    "for word, score in zip(words, word_scores):\n",
    "    print(f\"{word} {score}\")"
   ]
  },
  {
   "cell_type": "markdown",
   "metadata": {},
   "source": [
    "The following functions help us get the topic number for a keyword."
   ]
  },
  {
   "cell_type": "code",
   "execution_count": 213,
   "metadata": {},
   "outputs": [],
   "source": [
    "def get_topic_num(model, keyword, num_topics=5):\n",
    "    \"\"\"\n",
    "    Returns the topic words and number of a specific keyword\n",
    "    \n",
    "    :model: Top2Vec model\n",
    "    :keyword: keyword (str) of topic you want to find\n",
    "    :num_topics: max number of topics returned\n",
    "    \n",
    "    returns: topic_words, topic_nums\n",
    "    \"\"\"\n",
    "    try:\n",
    "        topic_words, _, _, topic_nums = model.search_topics(keywords=[keyword], num_topics=5)\n",
    "        return topic_words, topic_nums\n",
    "    except:\n",
    "        print('No topic found for keyword!')"
   ]
  },
  {
   "cell_type": "code",
   "execution_count": 249,
   "metadata": {},
   "outputs": [
    {
     "data": {
      "text/plain": [
       "([array(['minneapolis', 'politiegeweld', 'floyds', 'kenosha', 'ongewapende',\n",
       "         'breonna', 'chauvin', 'floyd', 'politieoptreden', 'louisville',\n",
       "         'lives', 'rittenhouse', 'politiekogels', 'plunderaars',\n",
       "         'plunderingen', 'matter', 'blm', 'traangas', 'rubberkogels',\n",
       "         'betoger', 'rellen', 'ordediensten', 'ordehandhavers', 'trayvon',\n",
       "         'demonstrant', 'arrestant', 'politieagent', 'protestmarsen',\n",
       "         'rassenrellen', 'politieagenten', 'demonstranten', 'betogers',\n",
       "         'straatgeweld', 'ordetroepen', 'betogingen', 'relschoppers',\n",
       "         'nekklem', 'vreedzaam', 'hardhandig', 'oproerpolitie', 'tomy',\n",
       "         'ongewapend', 'protestgolf', 'manifestanten', 'breathe', 'antifa',\n",
       "         'portland', 'vreedzame', 'charlottesville', 'politiekorps'],\n",
       "        dtype='<U15'),\n",
       "  array(['racisme', 'huidskleur', 'institutioneel', 'antiracisme',\n",
       "         'antiracistische', 'racistisch', 'antiracisten', 'gediscrimineerd',\n",
       "         'raciale', 'discriminatie', 'racist', 'racismedebat', 'racisten',\n",
       "         'discrimineren', 'antiracistisch', 'witheid', 'privilege',\n",
       "         'achterstelling', 'etniciteit', 'racistische', 'discriminerende',\n",
       "         'systemisch', 'vooroordelen', 'raciaal', 'blm', 'stereotypering',\n",
       "         'allochtoon', 'ingabire', 'zwarten', 'racismeprobleem', 'nzume',\n",
       "         'minderwaardig', 'lives', 'stereotypen', 'blanke', 'blank',\n",
       "         'neger', 'intersectioneel', 'quinsy', 'etnisch', 'allochtonen',\n",
       "         'seksisme', 'matter', 'biculturele', 'segregatie', 'gario',\n",
       "         'kleurlingen', 'inclusiviteit', 'blackface', 'afkomst'],\n",
       "        dtype='<U15'),\n",
       "  array(['demonstratie', 'betoging', 'demonstreren', 'demonstranten',\n",
       "         'demonstraties', 'viruswaanzin', 'gedemonstreerd', 'relschoppers',\n",
       "         'demonstreerden', 'demonstrant', 'politieoptreden', 'betogers',\n",
       "         'protesteren', 'waterkanon', 'politiegeweld', 'actievoerders',\n",
       "         'vreedzaam', 'coronaspoedwet', 'protest', 'betogingen',\n",
       "         'ongeregeldheden', 'leuzen', 'rellen', 'manifestaties',\n",
       "         'manifestatie', 'protestborden', 'waterkanonnen', 'pegida',\n",
       "         'protestacties', 'noodbevel', 'malieveld', 'protestactie',\n",
       "         'koekamp', 'manifestanten', 'betoger', 'charges', 'protesten',\n",
       "         'politiemacht', 'halsema', 'geprotesteerd', 'ordehandhavers',\n",
       "         'kozp', 'traangas', 'protestmars', 'demonstrerende', 'blm',\n",
       "         'protestbeweging', 'onruststokers', 'protesterende',\n",
       "         'wapenstokken'], dtype='<U15'),\n",
       "  array(['standbeelden', 'slavenhandelaar', 'beeldenstorm', 'pieterszoon',\n",
       "         'sokkel', 'colston', 'standbeeld', 'koloniale', 'koloniaal',\n",
       "         'kolonialisme', 'beklad', 'straatnamen', 'bekladden', 'heutsz',\n",
       "         'slavenhandel', 'slavernij', 'zeeheld', 'zeehelden', 'kolonisatie',\n",
       "         'dekolonisering', 'koloni', 'banda', 'overheersing', 'wic',\n",
       "         'overheersers', 'vrijstaat', 'bekladding', 'oostindie',\n",
       "         'dekolonisatie', 'wandaden', 'borstbeeld', 'historici', 'slaven',\n",
       "         'slavenhouders', 'oostindische', 'riebeeck', 'postkoloniale',\n",
       "         'blm', 'leopold', 'antikoloniale', 'kolonialen', 'kolonisator',\n",
       "         'westfries', 'coentunnel', 'voc', 'verering', 'kongo', 'besmeurd',\n",
       "         'slavernijmuseum', 'beeldenstormers'], dtype='<U15'),\n",
       "  array(['rassenscheiding', 'luther', 'zwarten', 'burgerrechten', 'afro',\n",
       "         'minneapolis', 'politiegeweld', 'gesegregeerde', 'alabama',\n",
       "         'raciale', 'protestmarsen', 'lives', 'rassenrellen',\n",
       "         'charlottesville', 'louisville', 'breonna', 'ongewapende',\n",
       "         'lincoln', 'matter', 'floyds', 'blm', 'kenosha', 'lynchpartijen',\n",
       "         'trayvon', 'vietnamoorlog', 'mississippi', 'raciaal', 'floyd',\n",
       "         'lyndon', 'baltimore', 'lepore', 'vreedzame', 'kentucky',\n",
       "         'protestmars', 'vreedzaam', 'geweldloos', 'missouri',\n",
       "         'presidential', 'blanken', 'plunderaars', 'geweldloze', 'malcolm',\n",
       "         'ohio', 'klan', 'activist', 'marsen', 'plunderingen', 'knielden',\n",
       "         'oklahoma', 'arkansas'], dtype='<U15')],\n",
       " array([ 296,  125,  408,  670, 2087]))"
      ]
     },
     "execution_count": 249,
     "metadata": {},
     "output_type": "execute_result"
    }
   ],
   "source": [
    "get_topic_num(model, 'blm')"
   ]
  },
  {
   "cell_type": "markdown",
   "metadata": {},
   "source": [
    "As you can see; we get multiple topics per keyword. **The lower the topic number, the bigger the cluster.**\n",
    "Some topic clusters are about a specific event inside a bigger story (e.g. the whole thing about destroying statues and BLM) so it can be usefull to combine some topics when creating the timeline.\n",
    "\n",
    "The function below returns true or false depending on how similar the topic words are. Using this function we can combine topics about the same general story."
   ]
  },
  {
   "cell_type": "code",
   "execution_count": 225,
   "metadata": {},
   "outputs": [],
   "source": [
    "def should_combine(topic_words1, topic_words2, similar_entries = 5):\n",
    "    \"\"\"\n",
    "    Returns boolean stating whether 1 and 2 have more then 'similar_entries' \n",
    "    of the same words\n",
    "    \n",
    "    :topic_words1: 1st list of topic words\n",
    "    :topic_words2: 2st list of topic words\n",
    "    :similar_entries: amount of required same words\n",
    "    \n",
    "    :returns: boolean\n",
    "    \"\"\"\n",
    "    temp = np.append(topic_words1, topic_words2)\n",
    "    \n",
    "    return np.unique(temp).size + similar_entries < 2 * topic_words1.size"
   ]
  },
  {
   "cell_type": "code",
   "execution_count": 247,
   "metadata": {},
   "outputs": [],
   "source": [
    "def combine_topics(model, dataframe, topic_words, topic_nums):\n",
    "    \"\"\"\n",
    "    Returns combined dataframe of multiple topics\n",
    "    \n",
    "    :model: Top2Vec model\n",
    "    :dataframe: dataframe with articles with topic column\n",
    "    :topic_words: list of lists of topic words\n",
    "    :topic_nums: list of topic numbers\n",
    "    \n",
    "    :returns: dataframe\n",
    "    \"\"\"\n",
    "    result = dataframe.iloc[0:0]\n",
    "    \n",
    "    # the topic_words list is sorted from most relevant to least relevant using\n",
    "    # cosine similarity\n",
    "    best_topic_words = topic_words[0]\n",
    "    \n",
    "    for i in range(topic_nums.size):\n",
    "        if should_combine(best_topic_words, topic_words[i]):\n",
    "            result = result.append(get_topic_df(dataframe, topic_nums[i]))\n",
    "    \n",
    "    return result"
   ]
  },
  {
   "cell_type": "code",
   "execution_count": 250,
   "metadata": {},
   "outputs": [
    {
     "data": {
      "text/html": [
       "<div>\n",
       "<style scoped>\n",
       "    .dataframe tbody tr th:only-of-type {\n",
       "        vertical-align: middle;\n",
       "    }\n",
       "\n",
       "    .dataframe tbody tr th {\n",
       "        vertical-align: top;\n",
       "    }\n",
       "\n",
       "    .dataframe thead th {\n",
       "        text-align: right;\n",
       "    }\n",
       "</style>\n",
       "<table border=\"1\" class=\"dataframe\">\n",
       "  <thead>\n",
       "    <tr style=\"text-align: right;\">\n",
       "      <th></th>\n",
       "      <th>id</th>\n",
       "      <th>date</th>\n",
       "      <th>headline</th>\n",
       "      <th>content</th>\n",
       "      <th>article</th>\n",
       "      <th>index</th>\n",
       "      <th>topic</th>\n",
       "      <th>topic_score</th>\n",
       "      <th>topic_words</th>\n",
       "      <th>word_scores</th>\n",
       "    </tr>\n",
       "  </thead>\n",
       "  <tbody>\n",
       "    <tr>\n",
       "      <th>5725</th>\n",
       "      <td>bnl-destandaard-20200224-b83ff06e_5661_11ea_b9...</td>\n",
       "      <td>2020-02-24 00:00:00+00:00</td>\n",
       "      <td>43 doden bij rellen na honderden gifaanvallen</td>\n",
       "      <td>Al enige tijd worden in Zambia mensen in hun h...</td>\n",
       "      <td>doden rellen honderden gifaanvallen enige tijd...</td>\n",
       "      <td>5725</td>\n",
       "      <td>296</td>\n",
       "      <td>0.367910</td>\n",
       "      <td>(minneapolis, politiegeweld, floyds, kenosha, ...</td>\n",
       "      <td>(0.85683495, 0.84303415, 0.77328396, 0.7662617...</td>\n",
       "    </tr>\n",
       "    <tr>\n",
       "      <th>17623</th>\n",
       "      <td>bnl-vkn-20200425-11976273</td>\n",
       "      <td>2020-04-25 00:00:00+00:00</td>\n",
       "      <td>Een rechte rug zegt niet alles</td>\n",
       "      <td>Deze week: de rug recht Er zijn politici die l...</td>\n",
       "      <td>rechte rug week rug recht politici langzaam gr...</td>\n",
       "      <td>17623</td>\n",
       "      <td>296</td>\n",
       "      <td>0.354175</td>\n",
       "      <td>(minneapolis, politiegeweld, floyds, kenosha, ...</td>\n",
       "      <td>(0.85683495, 0.84303415, 0.77328396, 0.7662617...</td>\n",
       "    </tr>\n",
       "    <tr>\n",
       "      <th>28012</th>\n",
       "      <td>bnl-par-20200530-12049459</td>\n",
       "      <td>2020-05-30 00:00:00+00:00</td>\n",
       "      <td>George Floyd</td>\n",
       "      <td>Wekenlang werden Amerikaanse overheidsgebouwen...</td>\n",
       "      <td>george floyd wekenlang werden amerikaanse over...</td>\n",
       "      <td>28012</td>\n",
       "      <td>296</td>\n",
       "      <td>0.485351</td>\n",
       "      <td>(minneapolis, politiegeweld, floyds, kenosha, ...</td>\n",
       "      <td>(0.85683495, 0.84303415, 0.77328396, 0.7662617...</td>\n",
       "    </tr>\n",
       "    <tr>\n",
       "      <th>28097</th>\n",
       "      <td>bnl-destandaard-20200602-9e4d50c0_a404_11ea_82...</td>\n",
       "      <td>2020-06-02 00:00:00+00:00</td>\n",
       "      <td>Het is genoeg geweest</td>\n",
       "      <td>Zwart zijn zou geen doodstraf mogen zijn’, zei...</td>\n",
       "      <td>genoeg zwart doodstraf zei jacob frey burgemee...</td>\n",
       "      <td>28097</td>\n",
       "      <td>296</td>\n",
       "      <td>0.600254</td>\n",
       "      <td>(minneapolis, politiegeweld, floyds, kenosha, ...</td>\n",
       "      <td>(0.85683495, 0.84303415, 0.77328396, 0.7662617...</td>\n",
       "    </tr>\n",
       "    <tr>\n",
       "      <th>28210</th>\n",
       "      <td>bnl-detijd-20200530-94855</td>\n",
       "      <td>2020-05-30 00:00:00+00:00</td>\n",
       "      <td>Raciaal protest ontaardt in Amerikaanse binnen...</td>\n",
       "      <td>V oor de derde dag op rij is de Amerikaanse st...</td>\n",
       "      <td>raciaal protest ontaardt amerikaanse binnenste...</td>\n",
       "      <td>28210</td>\n",
       "      <td>296</td>\n",
       "      <td>0.737295</td>\n",
       "      <td>(minneapolis, politiegeweld, floyds, kenosha, ...</td>\n",
       "      <td>(0.85683495, 0.84303415, 0.77328396, 0.7662617...</td>\n",
       "    </tr>\n",
       "  </tbody>\n",
       "</table>\n",
       "</div>"
      ],
      "text/plain": [
       "                                                      id  \\\n",
       "5725   bnl-destandaard-20200224-b83ff06e_5661_11ea_b9...   \n",
       "17623                          bnl-vkn-20200425-11976273   \n",
       "28012                          bnl-par-20200530-12049459   \n",
       "28097  bnl-destandaard-20200602-9e4d50c0_a404_11ea_82...   \n",
       "28210                          bnl-detijd-20200530-94855   \n",
       "\n",
       "                           date  \\\n",
       "5725  2020-02-24 00:00:00+00:00   \n",
       "17623 2020-04-25 00:00:00+00:00   \n",
       "28012 2020-05-30 00:00:00+00:00   \n",
       "28097 2020-06-02 00:00:00+00:00   \n",
       "28210 2020-05-30 00:00:00+00:00   \n",
       "\n",
       "                                                headline  \\\n",
       "5725       43 doden bij rellen na honderden gifaanvallen   \n",
       "17623                     Een rechte rug zegt niet alles   \n",
       "28012                                       George Floyd   \n",
       "28097                              Het is genoeg geweest   \n",
       "28210  Raciaal protest ontaardt in Amerikaanse binnen...   \n",
       "\n",
       "                                                 content  \\\n",
       "5725   Al enige tijd worden in Zambia mensen in hun h...   \n",
       "17623  Deze week: de rug recht Er zijn politici die l...   \n",
       "28012  Wekenlang werden Amerikaanse overheidsgebouwen...   \n",
       "28097  Zwart zijn zou geen doodstraf mogen zijn’, zei...   \n",
       "28210  V oor de derde dag op rij is de Amerikaanse st...   \n",
       "\n",
       "                                                 article  index  topic  \\\n",
       "5725   doden rellen honderden gifaanvallen enige tijd...   5725    296   \n",
       "17623  rechte rug week rug recht politici langzaam gr...  17623    296   \n",
       "28012  george floyd wekenlang werden amerikaanse over...  28012    296   \n",
       "28097  genoeg zwart doodstraf zei jacob frey burgemee...  28097    296   \n",
       "28210  raciaal protest ontaardt amerikaanse binnenste...  28210    296   \n",
       "\n",
       "       topic_score                                        topic_words  \\\n",
       "5725      0.367910  (minneapolis, politiegeweld, floyds, kenosha, ...   \n",
       "17623     0.354175  (minneapolis, politiegeweld, floyds, kenosha, ...   \n",
       "28012     0.485351  (minneapolis, politiegeweld, floyds, kenosha, ...   \n",
       "28097     0.600254  (minneapolis, politiegeweld, floyds, kenosha, ...   \n",
       "28210     0.737295  (minneapolis, politiegeweld, floyds, kenosha, ...   \n",
       "\n",
       "                                             word_scores  \n",
       "5725   (0.85683495, 0.84303415, 0.77328396, 0.7662617...  \n",
       "17623  (0.85683495, 0.84303415, 0.77328396, 0.7662617...  \n",
       "28012  (0.85683495, 0.84303415, 0.77328396, 0.7662617...  \n",
       "28097  (0.85683495, 0.84303415, 0.77328396, 0.7662617...  \n",
       "28210  (0.85683495, 0.84303415, 0.77328396, 0.7662617...  "
      ]
     },
     "execution_count": 250,
     "metadata": {},
     "output_type": "execute_result"
    }
   ],
   "source": [
    "blm_words, blm_nums = get_topic_num(model, 'blm')\n",
    "blm_df = combine_topics(model, clean_df, blm_words, blm_nums)\n",
    "blm_df.head()"
   ]
  },
  {
   "cell_type": "markdown",
   "metadata": {},
   "source": [
    "We get the most important event by grouping all articles of a specific topic by date, and then, if there are more than 1, choose the article with the highest topic score."
   ]
  },
  {
   "cell_type": "code",
   "execution_count": 318,
   "metadata": {},
   "outputs": [],
   "source": [
    "def get_event(dataframe, n=1):\n",
    "    \"\"\"\n",
    "    Extracts key event per day of dataframe of topic\n",
    "\n",
    "    :dataframe: Pandas DataFrame of specific topic number\n",
    "    :n: how many articles one a day are needed for something to be classified as a event (int)\n",
    "\n",
    "    :return: new dataframe\n",
    "    \"\"\"\n",
    "    result = dataframe.iloc[0:0]\n",
    "    articles = dataframe.set_index(\"date\")\n",
    "\n",
    "    for name, group in articles.groupby(pd.Grouper(freq=\"D\")):\n",
    "        if len(group.index) > max(n - 1, n):\n",
    "            idx = group.topic_score.argmax()\n",
    "            result = result.append(group.iloc[idx])\n",
    "        elif len(group.index) == 0:\n",
    "            continue\n",
    "        elif n == 1:\n",
    "            result = result.append(group)\n",
    "\n",
    "    return result\n"
   ]
  },
  {
   "cell_type": "code",
   "execution_count": 319,
   "metadata": {},
   "outputs": [],
   "source": [
    "def get_topic_df(dataframe, topic):\n",
    "    \"\"\"\n",
    "    Returns new dataframe based on topic number\n",
    "\n",
    "    :dataframe: Pandas DataFrame\n",
    "    :topic: number (int)\n",
    "    \n",
    "    :return: new dataframe\n",
    "    \"\"\"\n",
    "    return dataframe.loc[dataframe['topic'] == topic]\n"
   ]
  },
  {
   "cell_type": "code",
   "execution_count": 317,
   "metadata": {},
   "outputs": [],
   "source": [
    "def summerize_article(dataframe, n_sentences=3):\n",
    "    \"\"\"\n",
    "    Creates new dataframe column with summarize of articles\n",
    "\n",
    "    :dataframe: Pandas DataFrame\n",
    "    :n_sentences: number of sentences the summary should be\n",
    "\n",
    "    :return: dataframe\n",
    "    \"\"\"\n",
    "    model = Summarizer()\n",
    "\n",
    "    tqdm.pandas()\n",
    "    dataframe[\"summary\"] = dataframe[\"content\"].progress_apply(\n",
    "        lambda x: model(x, num_sentences=n_sentences)\n",
    "    )\n",
    "\n",
    "    return dataframe\n"
   ]
  },
  {
   "cell_type": "code",
   "execution_count": 315,
   "metadata": {},
   "outputs": [],
   "source": [
    "def create_timeline(\n",
    "    dataframe,\n",
    "    topic,\n",
    "    filename,\n",
    "    model,\n",
    "    start_date=False,\n",
    "    end_date=False,\n",
    "    summarize=True,\n",
    "    n=1,\n",
    "):\n",
    "    \"\"\"\n",
    "    Saves timeline about a topic as text file to drive.\n",
    "\n",
    "    :dataframe: Pandas DataFrame containing articles.\n",
    "    :topic: topic number (int).\n",
    "    :filename: output text file name.\n",
    "    :model: Top2Vec model.\n",
    "    :start_date: start date of event. Default is using whole DataFrame.\n",
    "    :end_date: start date of event. Default is using whole DataFrame.\n",
    "    :summarize: set to false if you don't want a\n",
    "                summarization of the content of an article.\n",
    "    :n: how many articles one a day are needed for something to be classified as a event (int)\n",
    "\n",
    "    :return: None\n",
    "    \"\"\"\n",
    "    df1 = get_topic_df(clean_df, topic)\n",
    "    df2 = get_event(df1, n)\n",
    "\n",
    "    if start_date and end_date:\n",
    "        df2 = df2.loc[start_date:end_date]\n",
    "\n",
    "    if summarize:\n",
    "        df3 = summerize_article(df2)\n",
    "        with open(filename, \"w\") as f:\n",
    "            for article in tqdm(df3.itertuples()):\n",
    "                f.write(\n",
    "                    f\"Date: {article.Index} \\nHeadline: {article.headline} \\nSummary: {article.summary} \\n\\n\"\n",
    "                )\n",
    "    else:\n",
    "        with open(filename, \"w\") as f:\n",
    "            for article in tqdm(df2.itertuples()):\n",
    "                f.write(f\"Date: {article.Index} \\nHeadline: {article.headline} \\n\\n\")\n"
   ]
  },
  {
   "cell_type": "code",
   "execution_count": 316,
   "metadata": {},
   "outputs": [],
   "source": [
    "def create_timeline_from_keyword(\n",
    "    dataframe,\n",
    "    keyword,\n",
    "    filename,\n",
    "    model,\n",
    "    start_date=False,\n",
    "    end_date=False,\n",
    "    summarize=True,\n",
    "    n=1,\n",
    "):\n",
    "    \"\"\"\n",
    "    Saves timeline about a topic as text file to drive.\n",
    "\n",
    "    :dataframe: Pandas DataFrame containing articles.\n",
    "    :keyword: keyword of topic (e.g. 'coronavirus')\n",
    "    :filename: output text file name.\n",
    "    :model: Top2Vec model.\n",
    "    :start_date: start date of event. Default is using whole DataFrame.\n",
    "    :end_date: start date of event. Default is using whole DataFrame.\n",
    "    :summarize: set to false if you don't want a\n",
    "                summarization of the content of an article.\n",
    "    :n: how many articles one a day are needed for something to be classified as a event (int)\n",
    "\n",
    "    :return: None\n",
    "    \"\"\"\n",
    "    words, topics = get_topic_num(model, keyword)\n",
    "    df1 = combine_topics(model, dataframe, words, topics)\n",
    "\n",
    "    df2 = get_event(df1, n)\n",
    "\n",
    "    if start_date and end_date:\n",
    "        df2 = df2.loc[start_date:end_date]\n",
    "\n",
    "    if summarize:\n",
    "        df3 = summerize_article(df2)\n",
    "        with open(filename, \"w\") as f:\n",
    "            for article in tqdm(df3.itertuples()):\n",
    "                f.write(\n",
    "                    f\"Date: {article.Index} \\nHeadline: {article.headline} \\nSummary: {article.summary} \\n\\n\"\n",
    "                )\n",
    "    else:\n",
    "        with open(filename, \"w\") as f:\n",
    "            for article in tqdm(df2.itertuples()):\n",
    "                f.write(f\"Date: {article.Index} \\nHeadline: {article.headline} \\n\\n\")\n"
   ]
  },
  {
   "cell_type": "markdown",
   "metadata": {},
   "source": [
    "## Example: BLM\n",
    "\n",
    "In the first example we look at a timeline of the BLM events starting with the dead of George Floyd. We give the article dataframe, the keyterm of our topic, the output file, our Top2Vec model, and the start and end date. We also didn't change the summary toggle, so we will get a 3 sentence summary of all the articles besides the headline and date."
   ]
  },
  {
   "cell_type": "code",
   "execution_count": 281,
   "metadata": {},
   "outputs": [
    {
     "name": "stderr",
     "output_type": "stream",
     "text": [
      "/Users/sebastiaan/opt/miniconda3/envs/blendle/lib/python3.8/site-packages/tqdm/std.py:701: FutureWarning: The Panel class is removed from pandas. Accessing it from the top-level namespace will also be removed in the next version\n",
      "  from pandas import Panel\n",
      "100%|██████████| 163/163 [07:17<00:00,  2.69s/it]\n",
      "163it [00:00, 58679.22it/s]\n"
     ]
    }
   ],
   "source": [
    "create_timeline_from_keyword(clean_df, 'blm', 'blm_timeline.txt', model, start_date='2020-05-24', end_date='2020-12-31')"
   ]
  },
  {
   "cell_type": "code",
   "execution_count": 285,
   "metadata": {},
   "outputs": [
    {
     "name": "stderr",
     "output_type": "stream",
     "text": [
      "/Users/sebastiaan/opt/miniconda3/envs/blendle/lib/python3.8/site-packages/tqdm/std.py:701: FutureWarning: The Panel class is removed from pandas. Accessing it from the top-level namespace will also be removed in the next version\n",
      "  from pandas import Panel\n",
      "100%|██████████| 133/133 [06:59<00:00,  3.16s/it]\n",
      "133it [00:00, 82716.85it/s]\n"
     ]
    }
   ],
   "source": [
    "create_timeline(clean_df, 296, 'blm_timeline2.txt', model, start_date='2020-05-24', end_date='2020-12-31')"
   ]
  },
  {
   "cell_type": "markdown",
   "metadata": {},
   "source": [
    "## Example: Coronavirus"
   ]
  },
  {
   "cell_type": "markdown",
   "metadata": {},
   "source": [
    "The second example is about the Coronavirus. Here we added 'n=3' to the function input. This will make sure that only days where more than 3 articles are about the same topic are classified as an event."
   ]
  },
  {
   "cell_type": "code",
   "execution_count": 321,
   "metadata": {},
   "outputs": [
    {
     "name": "stderr",
     "output_type": "stream",
     "text": [
      "/Users/sebastiaan/opt/miniconda3/envs/blendle/lib/python3.8/site-packages/tqdm/std.py:701: FutureWarning: The Panel class is removed from pandas. Accessing it from the top-level namespace will also be removed in the next version\n",
      "  from pandas import Panel\n",
      "100%|██████████| 47/47 [02:21<00:00,  3.01s/it]\n",
      "47it [00:00, 17060.35it/s]\n"
     ]
    }
   ],
   "source": [
    "create_timeline(clean_df, 347, 'covid_timeline.txt', model, start_date='2019-10-01', end_date='2020-12-31', n=3)"
   ]
  },
  {
   "cell_type": "markdown",
   "metadata": {},
   "source": [
    "## Example: F1"
   ]
  },
  {
   "cell_type": "markdown",
   "metadata": {},
   "source": [
    "In our F1 example, we set the summarize to False, so we only get the date and headlines"
   ]
  },
  {
   "cell_type": "code",
   "execution_count": 301,
   "metadata": {},
   "outputs": [
    {
     "name": "stderr",
     "output_type": "stream",
     "text": [
      "145it [00:00, 129124.01it/s]\n"
     ]
    }
   ],
   "source": [
    "create_timeline(clean_df, 633, 'f1.txt', model, summarize=False)"
   ]
  },
  {
   "cell_type": "markdown",
   "metadata": {},
   "source": [
    "## Example: Brexit"
   ]
  },
  {
   "cell_type": "markdown",
   "metadata": {},
   "source": [
    "Finally, we did the same for Brexit"
   ]
  },
  {
   "cell_type": "code",
   "execution_count": 304,
   "metadata": {},
   "outputs": [
    {
     "name": "stderr",
     "output_type": "stream",
     "text": [
      "540it [00:00, 116132.09it/s]\n"
     ]
    }
   ],
   "source": [
    "create_timeline(clean_df, 5, 'brexit.txt', model, summarize=False)"
   ]
  },
  {
   "cell_type": "markdown",
   "metadata": {},
   "source": [
    "As you can see there are many options to tweak this to fit to your liking. Thanks for reading!"
   ]
  },
  {
   "cell_type": "code",
   "execution_count": null,
   "metadata": {},
   "outputs": [],
   "source": []
  }
 ],
 "metadata": {
  "environment": {
   "name": "common-cu110.mnightly-2021-01-20-debian-10-test",
   "type": "gcloud",
   "uri": "gcr.io/deeplearning-platform-release/base-cu110:mnightly-2021-01-20-debian-10-test"
  },
  "kernelspec": {
   "display_name": "Python 3",
   "language": "python",
   "name": "python3"
  },
  "language_info": {
   "codemirror_mode": {
    "name": "ipython",
    "version": 3
   },
   "file_extension": ".py",
   "mimetype": "text/x-python",
   "name": "python",
   "nbconvert_exporter": "python",
   "pygments_lexer": "ipython3",
   "version": "3.8.5"
  }
 },
 "nbformat": 4,
 "nbformat_minor": 4
}
