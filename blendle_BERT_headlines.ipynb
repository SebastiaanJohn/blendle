{
 "cells": [
  {
   "cell_type": "code",
   "execution_count": 1,
   "metadata": {},
   "outputs": [],
   "source": [
    "import pandas as pd\n",
    "import numpy as np\n",
    "\n",
    "import re"
   ]
  },
  {
   "cell_type": "code",
   "execution_count": 3,
   "metadata": {},
   "outputs": [],
   "source": [
    "data = pd.read_csv('articles_eng_2020.csv').dropna()"
   ]
  },
  {
   "cell_type": "code",
   "execution_count": 7,
   "metadata": {},
   "outputs": [
    {
     "data": {
      "text/html": [
       "<div>\n",
       "<style scoped>\n",
       "    .dataframe tbody tr th:only-of-type {\n",
       "        vertical-align: middle;\n",
       "    }\n",
       "\n",
       "    .dataframe tbody tr th {\n",
       "        vertical-align: top;\n",
       "    }\n",
       "\n",
       "    .dataframe thead th {\n",
       "        text-align: right;\n",
       "    }\n",
       "</style>\n",
       "<table border=\"1\" class=\"dataframe\">\n",
       "  <thead>\n",
       "    <tr style=\"text-align: right;\">\n",
       "      <th></th>\n",
       "      <th>Unnamed: 0</th>\n",
       "      <th>id</th>\n",
       "      <th>date</th>\n",
       "      <th>headline</th>\n",
       "      <th>content</th>\n",
       "    </tr>\n",
       "  </thead>\n",
       "  <tbody>\n",
       "    <tr>\n",
       "      <th>0</th>\n",
       "      <td>0</td>\n",
       "      <td>bnl-newyorktimes528-20200216-489baa4a905a</td>\n",
       "      <td>2020-02-16 00:00:00+00:00</td>\n",
       "      <td>Questioning CPR as a Default Response</td>\n",
       "      <td>&lt;i&gt;&lt;b&gt;DR. MONIQUE STARKS&lt;/b&gt;&amp;nbsp;DUKE UNIVERS...</td>\n",
       "    </tr>\n",
       "    <tr>\n",
       "      <th>1</th>\n",
       "      <td>1</td>\n",
       "      <td>bnl-chicagotribune-20200219-89419fb1</td>\n",
       "      <td>2020-02-19 00:00:00+00:00</td>\n",
       "      <td>‘Taking Sexy Back’ a fantastic and timely book</td>\n",
       "      <td>If I didn’t know better, I would think Alexand...</td>\n",
       "    </tr>\n",
       "    <tr>\n",
       "      <th>2</th>\n",
       "      <td>2</td>\n",
       "      <td>bnl-atavist-20200226-5e52a7d36b667</td>\n",
       "      <td>2020-02-26 00:00:00+00:00</td>\n",
       "      <td>Deliverance</td>\n",
       "      <td>&lt;b&gt;Devilry of the kind&lt;/b&gt; necessary to kill a...</td>\n",
       "    </tr>\n",
       "    <tr>\n",
       "      <th>3</th>\n",
       "      <td>3</td>\n",
       "      <td>bnl-economist-20200131-7f87b05bd7e</td>\n",
       "      <td>2020-01-31 00:00:00+00:00</td>\n",
       "      <td>Whendunnit?</td>\n",
       "      <td>Since the first use of fingerprints to identif...</td>\n",
       "    </tr>\n",
       "    <tr>\n",
       "      <th>4</th>\n",
       "      <td>4</td>\n",
       "      <td>bnl-fastcompany-20200201-ba11405d1ed</td>\n",
       "      <td>2020-02-01 00:00:00+00:00</td>\n",
       "      <td>EXPERIENCE MATTERS</td>\n",
       "      <td>&lt;strong&gt;IN DIGITAL&lt;/strong&gt; With support from ...</td>\n",
       "    </tr>\n",
       "    <tr>\n",
       "      <th>...</th>\n",
       "      <td>...</td>\n",
       "      <td>...</td>\n",
       "      <td>...</td>\n",
       "      <td>...</td>\n",
       "      <td>...</td>\n",
       "    </tr>\n",
       "    <tr>\n",
       "      <th>157746</th>\n",
       "      <td>157746</td>\n",
       "      <td>bnl-areweeurope-20201224-f2b212e39c7</td>\n",
       "      <td>2020-12-24 00:00:00+00:00</td>\n",
       "      <td>The Black Curriculum</td>\n",
       "      <td>&lt;strong&gt;AUTHOR'S MOTIVATION&lt;/strong&gt; &lt;em&gt;I rec...</td>\n",
       "    </tr>\n",
       "    <tr>\n",
       "      <th>157747</th>\n",
       "      <td>157747</td>\n",
       "      <td>bnl-time-20200613-c8d5928f67d</td>\n",
       "      <td>2020-06-13 00:00:00+00:00</td>\n",
       "      <td>Which countries have handled COVID-19 best?</td>\n",
       "      <td>The coronavirus crisis has shifted To The amer...</td>\n",
       "    </tr>\n",
       "    <tr>\n",
       "      <th>157748</th>\n",
       "      <td>157748</td>\n",
       "      <td>bnl-newyorktimes528-20200312-100000007026228</td>\n",
       "      <td>2020-03-12 00:00:00+00:00</td>\n",
       "      <td>What Does the Coronavirus Do to the Body?</td>\n",
       "      <td>Here’s what scientists have learned about how ...</td>\n",
       "    </tr>\n",
       "    <tr>\n",
       "      <th>157749</th>\n",
       "      <td>157749</td>\n",
       "      <td>bnl-newyorktimes528-20200529-100000007160839</td>\n",
       "      <td>2020-05-29 00:00:00+00:00</td>\n",
       "      <td>Playing by the Rules: Dutch Leader Offers a So...</td>\n",
       "      <td>At a time when populists are overturning socia...</td>\n",
       "    </tr>\n",
       "    <tr>\n",
       "      <th>157750</th>\n",
       "      <td>157750</td>\n",
       "      <td>bnl-areweeurope-20201224-47ce5aee543</td>\n",
       "      <td>2020-12-24 00:00:00+00:00</td>\n",
       "      <td>Patterns of History</td>\n",
       "      <td>Bold, colourful wax print fabrics are emblemat...</td>\n",
       "    </tr>\n",
       "  </tbody>\n",
       "</table>\n",
       "<p>157678 rows × 5 columns</p>\n",
       "</div>"
      ],
      "text/plain": [
       "        Unnamed: 0                                            id  \\\n",
       "0                0     bnl-newyorktimes528-20200216-489baa4a905a   \n",
       "1                1          bnl-chicagotribune-20200219-89419fb1   \n",
       "2                2            bnl-atavist-20200226-5e52a7d36b667   \n",
       "3                3            bnl-economist-20200131-7f87b05bd7e   \n",
       "4                4          bnl-fastcompany-20200201-ba11405d1ed   \n",
       "...            ...                                           ...   \n",
       "157746      157746          bnl-areweeurope-20201224-f2b212e39c7   \n",
       "157747      157747                 bnl-time-20200613-c8d5928f67d   \n",
       "157748      157748  bnl-newyorktimes528-20200312-100000007026228   \n",
       "157749      157749  bnl-newyorktimes528-20200529-100000007160839   \n",
       "157750      157750          bnl-areweeurope-20201224-47ce5aee543   \n",
       "\n",
       "                             date  \\\n",
       "0       2020-02-16 00:00:00+00:00   \n",
       "1       2020-02-19 00:00:00+00:00   \n",
       "2       2020-02-26 00:00:00+00:00   \n",
       "3       2020-01-31 00:00:00+00:00   \n",
       "4       2020-02-01 00:00:00+00:00   \n",
       "...                           ...   \n",
       "157746  2020-12-24 00:00:00+00:00   \n",
       "157747  2020-06-13 00:00:00+00:00   \n",
       "157748  2020-03-12 00:00:00+00:00   \n",
       "157749  2020-05-29 00:00:00+00:00   \n",
       "157750  2020-12-24 00:00:00+00:00   \n",
       "\n",
       "                                                 headline  \\\n",
       "0                   Questioning CPR as a Default Response   \n",
       "1          ‘Taking Sexy Back’ a fantastic and timely book   \n",
       "2                                             Deliverance   \n",
       "3                                             Whendunnit?   \n",
       "4                                      EXPERIENCE MATTERS   \n",
       "...                                                   ...   \n",
       "157746                               The Black Curriculum   \n",
       "157747        Which countries have handled COVID-19 best?   \n",
       "157748          What Does the Coronavirus Do to the Body?   \n",
       "157749  Playing by the Rules: Dutch Leader Offers a So...   \n",
       "157750                                Patterns of History   \n",
       "\n",
       "                                                  content  \n",
       "0       <i><b>DR. MONIQUE STARKS</b>&nbsp;DUKE UNIVERS...  \n",
       "1       If I didn’t know better, I would think Alexand...  \n",
       "2       <b>Devilry of the kind</b> necessary to kill a...  \n",
       "3       Since the first use of fingerprints to identif...  \n",
       "4       <strong>IN DIGITAL</strong> With support from ...  \n",
       "...                                                   ...  \n",
       "157746  <strong>AUTHOR'S MOTIVATION</strong> <em>I rec...  \n",
       "157747  The coronavirus crisis has shifted To The amer...  \n",
       "157748  Here’s what scientists have learned about how ...  \n",
       "157749  At a time when populists are overturning socia...  \n",
       "157750  Bold, colourful wax print fabrics are emblemat...  \n",
       "\n",
       "[157678 rows x 5 columns]"
      ]
     },
     "execution_count": 7,
     "metadata": {},
     "output_type": "execute_result"
    }
   ],
   "source": [
    "data"
   ]
  },
  {
   "cell_type": "code",
   "execution_count": 8,
   "metadata": {},
   "outputs": [],
   "source": [
    "headlines = data.headline.tolist()"
   ]
  },
  {
   "cell_type": "code",
   "execution_count": 10,
   "metadata": {},
   "outputs": [
    {
     "name": "stdout",
     "output_type": "stream",
     "text": [
      "There are 157678 headlines.\n"
     ]
    }
   ],
   "source": [
    "print(f'There are {len(headlines)} headlines.')"
   ]
  },
  {
   "cell_type": "code",
   "execution_count": 13,
   "metadata": {},
   "outputs": [
    {
     "data": {
      "text/plain": [
       "'Questioning CPR as a Default Response'"
      ]
     },
     "execution_count": 13,
     "metadata": {},
     "output_type": "execute_result"
    }
   ],
   "source": [
    "headlines[0]"
   ]
  },
  {
   "cell_type": "code",
   "execution_count": 14,
   "metadata": {},
   "outputs": [
    {
     "data": {
      "application/vnd.jupyter.widget-view+json": {
       "model_id": "b60a6f4b8cda4400adf62143e331477c",
       "version_major": 2,
       "version_minor": 0
      },
      "text/plain": [
       "Batches:   0%|          | 0/4928 [00:00<?, ?it/s]"
      ]
     },
     "metadata": {},
     "output_type": "display_data"
    }
   ],
   "source": [
    "from sentence_transformers import SentenceTransformer\n",
    "model = SentenceTransformer('distilbert-base-nli-mean-tokens')\n",
    "embeddings = model.encode(headlines, show_progress_bar=True)"
   ]
  },
  {
   "cell_type": "code",
   "execution_count": 15,
   "metadata": {},
   "outputs": [],
   "source": [
    "import umap\n",
    "umap_embeddings = umap.UMAP(n_neighbors=15, \n",
    "                            n_components=5, \n",
    "                            metric='cosine').fit_transform(embeddings)"
   ]
  },
  {
   "cell_type": "code",
   "execution_count": 16,
   "metadata": {},
   "outputs": [],
   "source": [
    "import hdbscan\n",
    "cluster = hdbscan.HDBSCAN(min_cluster_size=15,\n",
    "                          metric='euclidean',                      \n",
    "                          cluster_selection_method='eom').fit(umap_embeddings)"
   ]
  },
  {
   "cell_type": "code",
   "execution_count": 19,
   "metadata": {},
   "outputs": [],
   "source": [
    "docs_df = pd.DataFrame(headlines, columns=[\"Doc\"])\n",
    "docs_df['Topic'] = cluster.labels_\n",
    "docs_df['Doc_ID'] = range(len(docs_df))\n",
    "docs_per_topic = docs_df.groupby(['Topic'], as_index = False).agg({'Doc': ' '.join})"
   ]
  },
  {
   "cell_type": "code",
   "execution_count": 21,
   "metadata": {},
   "outputs": [
    {
     "data": {
      "text/html": [
       "<div>\n",
       "<style scoped>\n",
       "    .dataframe tbody tr th:only-of-type {\n",
       "        vertical-align: middle;\n",
       "    }\n",
       "\n",
       "    .dataframe tbody tr th {\n",
       "        vertical-align: top;\n",
       "    }\n",
       "\n",
       "    .dataframe thead th {\n",
       "        text-align: right;\n",
       "    }\n",
       "</style>\n",
       "<table border=\"1\" class=\"dataframe\">\n",
       "  <thead>\n",
       "    <tr style=\"text-align: right;\">\n",
       "      <th></th>\n",
       "      <th>Topic</th>\n",
       "      <th>Doc</th>\n",
       "    </tr>\n",
       "  </thead>\n",
       "  <tbody>\n",
       "    <tr>\n",
       "      <th>0</th>\n",
       "      <td>-1</td>\n",
       "      <td>Questioning CPR as a Default Response ‘Taking ...</td>\n",
       "    </tr>\n",
       "    <tr>\n",
       "      <th>1</th>\n",
       "      <td>0</td>\n",
       "      <td>Crossword Crossword Crossword Crossword Crossw...</td>\n",
       "    </tr>\n",
       "    <tr>\n",
       "      <th>2</th>\n",
       "      <td>1</td>\n",
       "      <td>Quote of the Day Quote of the Day Quote of the...</td>\n",
       "    </tr>\n",
       "    <tr>\n",
       "      <th>3</th>\n",
       "      <td>2</td>\n",
       "      <td>Your Thursday Briefing Your Thursday Briefing ...</td>\n",
       "    </tr>\n",
       "    <tr>\n",
       "      <th>4</th>\n",
       "      <td>3</td>\n",
       "      <td>Contributors Contributors Contributors CONTRIB...</td>\n",
       "    </tr>\n",
       "    <tr>\n",
       "      <th>...</th>\n",
       "      <td>...</td>\n",
       "      <td>...</td>\n",
       "    </tr>\n",
       "    <tr>\n",
       "      <th>625</th>\n",
       "      <td>624</td>\n",
       "      <td>Citing security, Texas governor limits countie...</td>\n",
       "    </tr>\n",
       "    <tr>\n",
       "      <th>626</th>\n",
       "      <td>625</td>\n",
       "      <td>UN DEFEATED Two Classes, Unequal Disappearing ...</td>\n",
       "    </tr>\n",
       "    <tr>\n",
       "      <th>627</th>\n",
       "      <td>626</td>\n",
       "      <td>Condé Nast to Limit the Use of NDAs Ban on Ass...</td>\n",
       "    </tr>\n",
       "    <tr>\n",
       "      <th>628</th>\n",
       "      <td>627</td>\n",
       "      <td>For Hilary Mantel, There’s No Time Like the Pa...</td>\n",
       "    </tr>\n",
       "    <tr>\n",
       "      <th>629</th>\n",
       "      <td>628</td>\n",
       "      <td>QUIET ON SET The Silence by Don DeLillo — beyo...</td>\n",
       "    </tr>\n",
       "  </tbody>\n",
       "</table>\n",
       "<p>630 rows × 2 columns</p>\n",
       "</div>"
      ],
      "text/plain": [
       "     Topic                                                Doc\n",
       "0       -1  Questioning CPR as a Default Response ‘Taking ...\n",
       "1        0  Crossword Crossword Crossword Crossword Crossw...\n",
       "2        1  Quote of the Day Quote of the Day Quote of the...\n",
       "3        2  Your Thursday Briefing Your Thursday Briefing ...\n",
       "4        3  Contributors Contributors Contributors CONTRIB...\n",
       "..     ...                                                ...\n",
       "625    624  Citing security, Texas governor limits countie...\n",
       "626    625  UN DEFEATED Two Classes, Unequal Disappearing ...\n",
       "627    626  Condé Nast to Limit the Use of NDAs Ban on Ass...\n",
       "628    627  For Hilary Mantel, There’s No Time Like the Pa...\n",
       "629    628  QUIET ON SET The Silence by Don DeLillo — beyo...\n",
       "\n",
       "[630 rows x 2 columns]"
      ]
     },
     "execution_count": 21,
     "metadata": {},
     "output_type": "execute_result"
    }
   ],
   "source": [
    "docs_per_topic"
   ]
  },
  {
   "cell_type": "code",
   "execution_count": 22,
   "metadata": {},
   "outputs": [],
   "source": [
    "from sklearn.feature_extraction.text import CountVectorizer\n",
    "\n",
    "def c_tf_idf(documents, m, ngram_range=(1, 1)):\n",
    "    count = CountVectorizer(ngram_range=ngram_range, stop_words=\"english\").fit(documents)\n",
    "    t = count.transform(documents).toarray()\n",
    "    w = t.sum(axis=1)\n",
    "    tf = np.divide(t.T, w)\n",
    "    sum_t = t.sum(axis=0)\n",
    "    idf = np.log(np.divide(m, sum_t)).reshape(-1, 1)\n",
    "    tf_idf = np.multiply(tf, idf)\n",
    "\n",
    "    return tf_idf, count\n",
    "  \n",
    "tf_idf, count = c_tf_idf(docs_per_topic.Doc.values, m=len(data))"
   ]
  },
  {
   "cell_type": "code",
   "execution_count": 23,
   "metadata": {},
   "outputs": [
    {
     "data": {
      "text/html": [
       "<div>\n",
       "<style scoped>\n",
       "    .dataframe tbody tr th:only-of-type {\n",
       "        vertical-align: middle;\n",
       "    }\n",
       "\n",
       "    .dataframe tbody tr th {\n",
       "        vertical-align: top;\n",
       "    }\n",
       "\n",
       "    .dataframe thead th {\n",
       "        text-align: right;\n",
       "    }\n",
       "</style>\n",
       "<table border=\"1\" class=\"dataframe\">\n",
       "  <thead>\n",
       "    <tr style=\"text-align: right;\">\n",
       "      <th></th>\n",
       "      <th>Topic</th>\n",
       "      <th>Size</th>\n",
       "    </tr>\n",
       "  </thead>\n",
       "  <tbody>\n",
       "    <tr>\n",
       "      <th>0</th>\n",
       "      <td>-1</td>\n",
       "      <td>83522</td>\n",
       "    </tr>\n",
       "    <tr>\n",
       "      <th>612</th>\n",
       "      <td>611</td>\n",
       "      <td>4396</td>\n",
       "    </tr>\n",
       "    <tr>\n",
       "      <th>315</th>\n",
       "      <td>314</td>\n",
       "      <td>3637</td>\n",
       "    </tr>\n",
       "    <tr>\n",
       "      <th>568</th>\n",
       "      <td>567</td>\n",
       "      <td>2893</td>\n",
       "    </tr>\n",
       "    <tr>\n",
       "      <th>170</th>\n",
       "      <td>169</td>\n",
       "      <td>2660</td>\n",
       "    </tr>\n",
       "    <tr>\n",
       "      <th>177</th>\n",
       "      <td>176</td>\n",
       "      <td>2634</td>\n",
       "    </tr>\n",
       "    <tr>\n",
       "      <th>628</th>\n",
       "      <td>627</td>\n",
       "      <td>2309</td>\n",
       "    </tr>\n",
       "    <tr>\n",
       "      <th>557</th>\n",
       "      <td>556</td>\n",
       "      <td>1309</td>\n",
       "    </tr>\n",
       "    <tr>\n",
       "      <th>545</th>\n",
       "      <td>544</td>\n",
       "      <td>1140</td>\n",
       "    </tr>\n",
       "    <tr>\n",
       "      <th>464</th>\n",
       "      <td>463</td>\n",
       "      <td>1063</td>\n",
       "    </tr>\n",
       "  </tbody>\n",
       "</table>\n",
       "</div>"
      ],
      "text/plain": [
       "     Topic   Size\n",
       "0       -1  83522\n",
       "612    611   4396\n",
       "315    314   3637\n",
       "568    567   2893\n",
       "170    169   2660\n",
       "177    176   2634\n",
       "628    627   2309\n",
       "557    556   1309\n",
       "545    544   1140\n",
       "464    463   1063"
      ]
     },
     "execution_count": 23,
     "metadata": {},
     "output_type": "execute_result"
    }
   ],
   "source": [
    "def extract_top_n_words_per_topic(tf_idf, count, docs_per_topic, n=20):\n",
    "    words = count.get_feature_names()\n",
    "    labels = list(docs_per_topic.Topic)\n",
    "    tf_idf_transposed = tf_idf.T\n",
    "    indices = tf_idf_transposed.argsort()[:, -n:]\n",
    "    top_n_words = {label: [(words[j], tf_idf_transposed[i][j]) for j in indices[i]][::-1] for i, label in enumerate(labels)}\n",
    "    return top_n_words\n",
    "\n",
    "def extract_topic_sizes(df):\n",
    "    topic_sizes = (df.groupby(['Topic'])\n",
    "                     .Doc\n",
    "                     .count()\n",
    "                     .reset_index()\n",
    "                     .rename({\"Topic\": \"Topic\", \"Doc\": \"Size\"}, axis='columns')\n",
    "                     .sort_values(\"Size\", ascending=False))\n",
    "    return topic_sizes\n",
    "\n",
    "top_n_words = extract_top_n_words_per_topic(tf_idf, count, docs_per_topic, n=20)\n",
    "topic_sizes = extract_topic_sizes(docs_df); topic_sizes.head(10)"
   ]
  },
  {
   "cell_type": "code",
   "execution_count": 30,
   "metadata": {},
   "outputs": [
    {
     "name": "stdout",
     "output_type": "stream",
     "text": [
      "Topic sizes: 630\n",
      "Top n words: 630\n"
     ]
    }
   ],
   "source": [
    "print(f'Topic sizes: {len(topic_sizes)}')\n",
    "print(f'Top n words: {len(top_n_words)}')"
   ]
  },
  {
   "cell_type": "code",
   "execution_count": 24,
   "metadata": {},
   "outputs": [
    {
     "data": {
      "text/plain": [
       "[('trump', 0.48526907351595616),\n",
       " ('biden', 0.06457523900924203),\n",
       " ('says', 0.03086407005228113),\n",
       " ('election', 0.026731044584863164),\n",
       " ('campaign', 0.025171083849548435),\n",
       " ('president', 0.01951832166083292),\n",
       " ('virus', 0.018665354260638693),\n",
       " ('donald', 0.018071206131971964),\n",
       " ('republicans', 0.017973013070429214),\n",
       " ('court', 0.017913051675852096)]"
      ]
     },
     "execution_count": 24,
     "metadata": {},
     "output_type": "execute_result"
    }
   ],
   "source": [
    "top_n_words[611][:10]"
   ]
  },
  {
   "cell_type": "code",
   "execution_count": 25,
   "metadata": {},
   "outputs": [
    {
     "data": {
      "text/plain": [
       "[('million', 0.15543460155763014),\n",
       " ('000', 0.12306688549852283),\n",
       " ('billion', 0.10252409506396486),\n",
       " ('100', 0.04248442463507839),\n",
       " ('cases', 0.03836327682747241),\n",
       " ('trillion', 0.03279847589564103),\n",
       " ('millions', 0.03141715866489043),\n",
       " ('pay', 0.03134589737079452),\n",
       " ('coronavirus', 0.029698749127208865),\n",
       " ('virus', 0.027464525448558933)]"
      ]
     },
     "execution_count": 25,
     "metadata": {},
     "output_type": "execute_result"
    }
   ],
   "source": [
    "top_n_words[314][:10]"
   ]
  },
  {
   "cell_type": "code",
   "execution_count": 26,
   "metadata": {},
   "outputs": [
    {
     "data": {
      "text/plain": [
       "[('good', 0.0625891394040202),\n",
       " ('love', 0.0548250077601877),\n",
       " ('right', 0.04816663317955727),\n",
       " ('big', 0.04596380277270793),\n",
       " ('time', 0.0346619806031849),\n",
       " ('real', 0.032555224733677786),\n",
       " ('perfect', 0.02534380059934966),\n",
       " ('power', 0.023499638835091857),\n",
       " ('hope', 0.02235139533888178),\n",
       " ('great', 0.02164111839715918)]"
      ]
     },
     "execution_count": 26,
     "metadata": {},
     "output_type": "execute_result"
    }
   ],
   "source": [
    "top_n_words[567][:10]"
   ]
  },
  {
   "cell_type": "code",
   "execution_count": 28,
   "metadata": {},
   "outputs": [
    {
     "data": {
      "text/plain": [
       "[('dies', 0.3995326471110104),\n",
       " ('dead', 0.11086330233323792),\n",
       " ('90', 0.036863478136321993),\n",
       " ('88', 0.03651675244158001),\n",
       " ('91', 0.03628405469817675),\n",
       " ('84', 0.033675504675345636),\n",
       " ('92', 0.030893269112689033),\n",
       " ('81', 0.030353007295590168),\n",
       " ('86', 0.029165247260634276),\n",
       " ('83', 0.029134598663700884)]"
      ]
     },
     "execution_count": 28,
     "metadata": {},
     "output_type": "execute_result"
    }
   ],
   "source": [
    "top_n_words[176][:10]"
   ]
  },
  {
   "cell_type": "code",
   "execution_count": 31,
   "metadata": {},
   "outputs": [
    {
     "data": {
      "text/html": [
       "<div>\n",
       "<style scoped>\n",
       "    .dataframe tbody tr th:only-of-type {\n",
       "        vertical-align: middle;\n",
       "    }\n",
       "\n",
       "    .dataframe tbody tr th {\n",
       "        vertical-align: top;\n",
       "    }\n",
       "\n",
       "    .dataframe thead th {\n",
       "        text-align: right;\n",
       "    }\n",
       "</style>\n",
       "<table border=\"1\" class=\"dataframe\">\n",
       "  <thead>\n",
       "    <tr style=\"text-align: right;\">\n",
       "      <th></th>\n",
       "      <th>Topic</th>\n",
       "      <th>Size</th>\n",
       "    </tr>\n",
       "  </thead>\n",
       "  <tbody>\n",
       "    <tr>\n",
       "      <th>0</th>\n",
       "      <td>-1</td>\n",
       "      <td>83537</td>\n",
       "    </tr>\n",
       "    <tr>\n",
       "      <th>592</th>\n",
       "      <td>591</td>\n",
       "      <td>4396</td>\n",
       "    </tr>\n",
       "    <tr>\n",
       "      <th>311</th>\n",
       "      <td>310</td>\n",
       "      <td>3637</td>\n",
       "    </tr>\n",
       "    <tr>\n",
       "      <th>548</th>\n",
       "      <td>547</td>\n",
       "      <td>2893</td>\n",
       "    </tr>\n",
       "    <tr>\n",
       "      <th>169</th>\n",
       "      <td>168</td>\n",
       "      <td>2660</td>\n",
       "    </tr>\n",
       "    <tr>\n",
       "      <th>176</th>\n",
       "      <td>175</td>\n",
       "      <td>2634</td>\n",
       "    </tr>\n",
       "    <tr>\n",
       "      <th>608</th>\n",
       "      <td>607</td>\n",
       "      <td>2309</td>\n",
       "    </tr>\n",
       "    <tr>\n",
       "      <th>537</th>\n",
       "      <td>536</td>\n",
       "      <td>1309</td>\n",
       "    </tr>\n",
       "    <tr>\n",
       "      <th>525</th>\n",
       "      <td>524</td>\n",
       "      <td>1140</td>\n",
       "    </tr>\n",
       "    <tr>\n",
       "      <th>448</th>\n",
       "      <td>447</td>\n",
       "      <td>1063</td>\n",
       "    </tr>\n",
       "  </tbody>\n",
       "</table>\n",
       "</div>"
      ],
      "text/plain": [
       "     Topic   Size\n",
       "0       -1  83537\n",
       "592    591   4396\n",
       "311    310   3637\n",
       "548    547   2893\n",
       "169    168   2660\n",
       "176    175   2634\n",
       "608    607   2309\n",
       "537    536   1309\n",
       "525    524   1140\n",
       "448    447   1063"
      ]
     },
     "execution_count": 31,
     "metadata": {},
     "output_type": "execute_result"
    }
   ],
   "source": [
    "from sklearn.metrics.pairwise import cosine_similarity\n",
    "for i in range(20):\n",
    "    # Calculate cosine similarity\n",
    "    similarities = cosine_similarity(tf_idf.T)\n",
    "    np.fill_diagonal(similarities, 0)\n",
    "\n",
    "    # Extract label to merge into and from where\n",
    "    topic_sizes = docs_df.groupby(['Topic']).count().sort_values(\"Doc\", ascending=False).reset_index()\n",
    "    topic_to_merge = topic_sizes.iloc[-1].Topic\n",
    "    topic_to_merge_into = np.argmax(similarities[topic_to_merge + 1]) - 1\n",
    "\n",
    "    # Adjust topics\n",
    "    docs_df.loc[docs_df.Topic == topic_to_merge, \"Topic\"] = topic_to_merge_into\n",
    "    old_topics = docs_df.sort_values(\"Topic\").Topic.unique()\n",
    "    map_topics = {old_topic: index - 1 for index, old_topic in enumerate(old_topics)}\n",
    "    docs_df.Topic = docs_df.Topic.map(map_topics)\n",
    "    docs_per_topic = docs_df.groupby(['Topic'], as_index = False).agg({'Doc': ' '.join})\n",
    "\n",
    "    # Calculate new topic words\n",
    "    m = len(data)\n",
    "    tf_idf, count = c_tf_idf(docs_per_topic.Doc.values, m)\n",
    "    top_n_words = extract_top_n_words_per_topic(tf_idf, count, docs_per_topic, n=20)\n",
    "\n",
    "topic_sizes = extract_topic_sizes(docs_df); topic_sizes.head(10)"
   ]
  },
  {
   "cell_type": "code",
   "execution_count": 32,
   "metadata": {},
   "outputs": [
    {
     "data": {
      "text/plain": [
       "610"
      ]
     },
     "execution_count": 32,
     "metadata": {},
     "output_type": "execute_result"
    }
   ],
   "source": [
    "len(topic_sizes)"
   ]
  },
  {
   "cell_type": "code",
   "execution_count": 33,
   "metadata": {},
   "outputs": [
    {
     "data": {
      "text/plain": [
       "[('trump', 0.48526907351595616),\n",
       " ('biden', 0.06457523900924203),\n",
       " ('says', 0.03086407005228113),\n",
       " ('election', 0.026731044584863164),\n",
       " ('campaign', 0.025171083849548435),\n",
       " ('president', 0.01951832166083292),\n",
       " ('virus', 0.018665354260638693),\n",
       " ('donald', 0.018071206131971964),\n",
       " ('republicans', 0.017973013070429214),\n",
       " ('court', 0.017913051675852096)]"
      ]
     },
     "execution_count": 33,
     "metadata": {},
     "output_type": "execute_result"
    }
   ],
   "source": [
    "top_n_words[591][:10]"
   ]
  },
  {
   "cell_type": "code",
   "execution_count": 34,
   "metadata": {},
   "outputs": [
    {
     "data": {
      "text/plain": [
       "[('million', 0.15543460155763014),\n",
       " ('000', 0.12306688549852283),\n",
       " ('billion', 0.10252409506396486),\n",
       " ('100', 0.04248442463507839),\n",
       " ('cases', 0.03836327682747241),\n",
       " ('trillion', 0.03279847589564103),\n",
       " ('millions', 0.03141715866489043),\n",
       " ('pay', 0.03134589737079452),\n",
       " ('coronavirus', 0.029698749127208865),\n",
       " ('virus', 0.027464525448558933)]"
      ]
     },
     "execution_count": 34,
     "metadata": {},
     "output_type": "execute_result"
    }
   ],
   "source": [
    "top_n_words[310][:10]"
   ]
  },
  {
   "cell_type": "code",
   "execution_count": 35,
   "metadata": {},
   "outputs": [
    {
     "data": {
      "text/plain": [
       "[('good', 0.0625891394040202),\n",
       " ('love', 0.0548250077601877),\n",
       " ('right', 0.04816663317955727),\n",
       " ('big', 0.04596380277270793),\n",
       " ('time', 0.0346619806031849),\n",
       " ('real', 0.032555224733677786),\n",
       " ('perfect', 0.02534380059934966),\n",
       " ('power', 0.023499638835091857),\n",
       " ('hope', 0.02235139533888178),\n",
       " ('great', 0.02164111839715918)]"
      ]
     },
     "execution_count": 35,
     "metadata": {},
     "output_type": "execute_result"
    }
   ],
   "source": [
    "top_n_words[547][:10]"
   ]
  },
  {
   "cell_type": "code",
   "execution_count": 36,
   "metadata": {},
   "outputs": [
    {
     "data": {
      "text/plain": [
       "[('china', 0.5050655855140077),\n",
       " ('chinese', 0.14310070693761606),\n",
       " ('hong', 0.12579089890496906),\n",
       " ('kong', 0.12503083305055837),\n",
       " ('beijing', 0.07495979382782324),\n",
       " ('coronavirus', 0.05132064771140595),\n",
       " ('taiwan', 0.042010767429444394),\n",
       " ('virus', 0.03613170017110871),\n",
       " ('trade', 0.027113655625539704),\n",
       " ('new', 0.02526858319372172)]"
      ]
     },
     "execution_count": 36,
     "metadata": {},
     "output_type": "execute_result"
    }
   ],
   "source": [
    "top_n_words[168][:10]"
   ]
  },
  {
   "cell_type": "code",
   "execution_count": null,
   "metadata": {},
   "outputs": [],
   "source": []
  }
 ],
 "metadata": {
  "kernelspec": {
   "display_name": "blendle",
   "language": "python",
   "name": "blendle"
  },
  "language_info": {
   "codemirror_mode": {
    "name": "ipython",
    "version": 3
   },
   "file_extension": ".py",
   "mimetype": "text/x-python",
   "name": "python",
   "nbconvert_exporter": "python",
   "pygments_lexer": "ipython3",
   "version": "3.8.5"
  }
 },
 "nbformat": 4,
 "nbformat_minor": 4
}
